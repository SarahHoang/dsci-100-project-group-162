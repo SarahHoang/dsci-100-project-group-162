{
 "cells": [
  {
   "cell_type": "code",
   "execution_count": null,
   "id": "aec2c9c6-ff9f-4f0e-8f27-25b1f2ab2097",
   "metadata": {},
   "outputs": [],
   "source": []
  }
 ],
 "metadata": {
  "kernelspec": {
   "display_name": "R",
   "language": "R",
   "name": "ir"
  },
  "language_info": {
   "codemirror_mode": "r",
   "file_extension": ".r",
   "mimetype": "text/x-r-source",
   "name": "R",
   "pygments_lexer": "r",
   "version": "4.1.3"
  }
 },
 "nbformat": 4,
 "nbformat_minor": 5
}
