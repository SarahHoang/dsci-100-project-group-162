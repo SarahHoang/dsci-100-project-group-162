{
 "cells": [
  {
   "cell_type": "markdown",
   "id": "c760d4fa-4975-4042-a499-a597b4ce4021",
   "metadata": {},
   "source": [
    "# Title"
   ]
  },
  {
   "cell_type": "markdown",
   "id": "3988ccd6-f463-4932-bb30-e461b59d0b5c",
   "metadata": {},
   "source": [
    "## Introduction"
   ]
  },
  {
   "cell_type": "markdown",
   "id": "4bdaac56-5d69-4a3c-8c14-2eeb9658daca",
   "metadata": {},
   "source": [
    "### Load Data into R"
   ]
  },
  {
   "cell_type": "code",
   "execution_count": 32,
   "id": "5a0f62aa-6e16-4d84-a364-116d54d4885a",
   "metadata": {},
   "outputs": [],
   "source": [
    "library(tidyverse)\n",
    "library(repr)\n",
    "library(readxl)\n",
    "library(stringr)\n",
    "options(repr.matrix.max.rows = 6)"
   ]
  },
  {
   "cell_type": "code",
   "execution_count": 95,
   "id": "5e5315e1-c1bd-4000-8e26-9f51cd34cc9e",
   "metadata": {},
   "outputs": [
    {
     "name": "stderr",
     "output_type": "stream",
     "text": [
      "\u001b[1mRows: \u001b[22m\u001b[34m4601\u001b[39m \u001b[1mColumns: \u001b[22m\u001b[34m58\u001b[39m\n",
      "\u001b[36m──\u001b[39m \u001b[1mColumn specification\u001b[22m \u001b[36m────────────────────────────────────────────────────────\u001b[39m\n",
      "\u001b[1mDelimiter:\u001b[22m \",\"\n",
      "\u001b[32mdbl\u001b[39m (58): X1, X2, X3, X4, X5, X6, X7, X8, X9, X10, X11, X12, X13, X14, X15, ...\n",
      "\n",
      "\u001b[36mℹ\u001b[39m Use `spec()` to retrieve the full column specification for this data.\n",
      "\u001b[36mℹ\u001b[39m Specify the column types or set `show_col_types = FALSE` to quiet this message.\n"
     ]
    },
    {
     "data": {
      "text/html": [
       "<table class=\"dataframe\">\n",
       "<caption>A spec_tbl_df: 4601 × 58</caption>\n",
       "<thead>\n",
       "\t<tr><th scope=col>X1</th><th scope=col>X2</th><th scope=col>X3</th><th scope=col>X4</th><th scope=col>X5</th><th scope=col>X6</th><th scope=col>X7</th><th scope=col>X8</th><th scope=col>X9</th><th scope=col>X10</th><th scope=col>⋯</th><th scope=col>X49</th><th scope=col>X50</th><th scope=col>X51</th><th scope=col>X52</th><th scope=col>X53</th><th scope=col>X54</th><th scope=col>X55</th><th scope=col>X56</th><th scope=col>X57</th><th scope=col>X58</th></tr>\n",
       "\t<tr><th scope=col>&lt;dbl&gt;</th><th scope=col>&lt;dbl&gt;</th><th scope=col>&lt;dbl&gt;</th><th scope=col>&lt;dbl&gt;</th><th scope=col>&lt;dbl&gt;</th><th scope=col>&lt;dbl&gt;</th><th scope=col>&lt;dbl&gt;</th><th scope=col>&lt;dbl&gt;</th><th scope=col>&lt;dbl&gt;</th><th scope=col>&lt;dbl&gt;</th><th scope=col>⋯</th><th scope=col>&lt;dbl&gt;</th><th scope=col>&lt;dbl&gt;</th><th scope=col>&lt;dbl&gt;</th><th scope=col>&lt;dbl&gt;</th><th scope=col>&lt;dbl&gt;</th><th scope=col>&lt;dbl&gt;</th><th scope=col>&lt;dbl&gt;</th><th scope=col>&lt;dbl&gt;</th><th scope=col>&lt;dbl&gt;</th><th scope=col>&lt;dbl&gt;</th></tr>\n",
       "</thead>\n",
       "<tbody>\n",
       "\t<tr><td>0.00</td><td>0.64</td><td>0.64</td><td>0</td><td>0.32</td><td>0.00</td><td>0.00</td><td>0.00</td><td>0.00</td><td>0.00</td><td>⋯</td><td>0.00</td><td>0.000</td><td>0</td><td>0.778</td><td>0.000</td><td>0.000</td><td>3.756</td><td> 61</td><td> 278</td><td>1</td></tr>\n",
       "\t<tr><td>0.21</td><td>0.28</td><td>0.50</td><td>0</td><td>0.14</td><td>0.28</td><td>0.21</td><td>0.07</td><td>0.00</td><td>0.94</td><td>⋯</td><td>0.00</td><td>0.132</td><td>0</td><td>0.372</td><td>0.180</td><td>0.048</td><td>5.114</td><td>101</td><td>1028</td><td>1</td></tr>\n",
       "\t<tr><td>0.06</td><td>0.00</td><td>0.71</td><td>0</td><td>1.23</td><td>0.19</td><td>0.19</td><td>0.12</td><td>0.64</td><td>0.25</td><td>⋯</td><td>0.01</td><td>0.143</td><td>0</td><td>0.276</td><td>0.184</td><td>0.010</td><td>9.821</td><td>485</td><td>2259</td><td>1</td></tr>\n",
       "\t<tr><td>⋮</td><td>⋮</td><td>⋮</td><td>⋮</td><td>⋮</td><td>⋮</td><td>⋮</td><td>⋮</td><td>⋮</td><td>⋮</td><td>⋱</td><td>⋮</td><td>⋮</td><td>⋮</td><td>⋮</td><td>⋮</td><td>⋮</td><td>⋮</td><td>⋮</td><td>⋮</td><td>⋮</td></tr>\n",
       "\t<tr><td>0.30</td><td>0</td><td>0.30</td><td>0</td><td>0.00</td><td>0</td><td>0</td><td>0</td><td>0</td><td>0</td><td>⋯</td><td>0.102</td><td>0.718</td><td>0</td><td>0.000</td><td>0</td><td>0</td><td>1.404</td><td>6</td><td>118</td><td>0</td></tr>\n",
       "\t<tr><td>0.96</td><td>0</td><td>0.00</td><td>0</td><td>0.32</td><td>0</td><td>0</td><td>0</td><td>0</td><td>0</td><td>⋯</td><td>0.000</td><td>0.057</td><td>0</td><td>0.000</td><td>0</td><td>0</td><td>1.147</td><td>5</td><td> 78</td><td>0</td></tr>\n",
       "\t<tr><td>0.00</td><td>0</td><td>0.65</td><td>0</td><td>0.00</td><td>0</td><td>0</td><td>0</td><td>0</td><td>0</td><td>⋯</td><td>0.000</td><td>0.000</td><td>0</td><td>0.125</td><td>0</td><td>0</td><td>1.250</td><td>5</td><td> 40</td><td>0</td></tr>\n",
       "</tbody>\n",
       "</table>\n"
      ],
      "text/latex": [
       "A spec\\_tbl\\_df: 4601 × 58\n",
       "\\begin{tabular}{lllllllllllllllllllll}\n",
       " X1 & X2 & X3 & X4 & X5 & X6 & X7 & X8 & X9 & X10 & ⋯ & X49 & X50 & X51 & X52 & X53 & X54 & X55 & X56 & X57 & X58\\\\\n",
       " <dbl> & <dbl> & <dbl> & <dbl> & <dbl> & <dbl> & <dbl> & <dbl> & <dbl> & <dbl> & ⋯ & <dbl> & <dbl> & <dbl> & <dbl> & <dbl> & <dbl> & <dbl> & <dbl> & <dbl> & <dbl>\\\\\n",
       "\\hline\n",
       "\t 0.00 & 0.64 & 0.64 & 0 & 0.32 & 0.00 & 0.00 & 0.00 & 0.00 & 0.00 & ⋯ & 0.00 & 0.000 & 0 & 0.778 & 0.000 & 0.000 & 3.756 &  61 &  278 & 1\\\\\n",
       "\t 0.21 & 0.28 & 0.50 & 0 & 0.14 & 0.28 & 0.21 & 0.07 & 0.00 & 0.94 & ⋯ & 0.00 & 0.132 & 0 & 0.372 & 0.180 & 0.048 & 5.114 & 101 & 1028 & 1\\\\\n",
       "\t 0.06 & 0.00 & 0.71 & 0 & 1.23 & 0.19 & 0.19 & 0.12 & 0.64 & 0.25 & ⋯ & 0.01 & 0.143 & 0 & 0.276 & 0.184 & 0.010 & 9.821 & 485 & 2259 & 1\\\\\n",
       "\t ⋮ & ⋮ & ⋮ & ⋮ & ⋮ & ⋮ & ⋮ & ⋮ & ⋮ & ⋮ & ⋱ & ⋮ & ⋮ & ⋮ & ⋮ & ⋮ & ⋮ & ⋮ & ⋮ & ⋮ & ⋮\\\\\n",
       "\t 0.30 & 0 & 0.30 & 0 & 0.00 & 0 & 0 & 0 & 0 & 0 & ⋯ & 0.102 & 0.718 & 0 & 0.000 & 0 & 0 & 1.404 & 6 & 118 & 0\\\\\n",
       "\t 0.96 & 0 & 0.00 & 0 & 0.32 & 0 & 0 & 0 & 0 & 0 & ⋯ & 0.000 & 0.057 & 0 & 0.000 & 0 & 0 & 1.147 & 5 &  78 & 0\\\\\n",
       "\t 0.00 & 0 & 0.65 & 0 & 0.00 & 0 & 0 & 0 & 0 & 0 & ⋯ & 0.000 & 0.000 & 0 & 0.125 & 0 & 0 & 1.250 & 5 &  40 & 0\\\\\n",
       "\\end{tabular}\n"
      ],
      "text/markdown": [
       "\n",
       "A spec_tbl_df: 4601 × 58\n",
       "\n",
       "| X1 &lt;dbl&gt; | X2 &lt;dbl&gt; | X3 &lt;dbl&gt; | X4 &lt;dbl&gt; | X5 &lt;dbl&gt; | X6 &lt;dbl&gt; | X7 &lt;dbl&gt; | X8 &lt;dbl&gt; | X9 &lt;dbl&gt; | X10 &lt;dbl&gt; | ⋯ ⋯ | X49 &lt;dbl&gt; | X50 &lt;dbl&gt; | X51 &lt;dbl&gt; | X52 &lt;dbl&gt; | X53 &lt;dbl&gt; | X54 &lt;dbl&gt; | X55 &lt;dbl&gt; | X56 &lt;dbl&gt; | X57 &lt;dbl&gt; | X58 &lt;dbl&gt; |\n",
       "|---|---|---|---|---|---|---|---|---|---|---|---|---|---|---|---|---|---|---|---|---|\n",
       "| 0.00 | 0.64 | 0.64 | 0 | 0.32 | 0.00 | 0.00 | 0.00 | 0.00 | 0.00 | ⋯ | 0.00 | 0.000 | 0 | 0.778 | 0.000 | 0.000 | 3.756 |  61 |  278 | 1 |\n",
       "| 0.21 | 0.28 | 0.50 | 0 | 0.14 | 0.28 | 0.21 | 0.07 | 0.00 | 0.94 | ⋯ | 0.00 | 0.132 | 0 | 0.372 | 0.180 | 0.048 | 5.114 | 101 | 1028 | 1 |\n",
       "| 0.06 | 0.00 | 0.71 | 0 | 1.23 | 0.19 | 0.19 | 0.12 | 0.64 | 0.25 | ⋯ | 0.01 | 0.143 | 0 | 0.276 | 0.184 | 0.010 | 9.821 | 485 | 2259 | 1 |\n",
       "| ⋮ | ⋮ | ⋮ | ⋮ | ⋮ | ⋮ | ⋮ | ⋮ | ⋮ | ⋮ | ⋱ | ⋮ | ⋮ | ⋮ | ⋮ | ⋮ | ⋮ | ⋮ | ⋮ | ⋮ | ⋮ |\n",
       "| 0.30 | 0 | 0.30 | 0 | 0.00 | 0 | 0 | 0 | 0 | 0 | ⋯ | 0.102 | 0.718 | 0 | 0.000 | 0 | 0 | 1.404 | 6 | 118 | 0 |\n",
       "| 0.96 | 0 | 0.00 | 0 | 0.32 | 0 | 0 | 0 | 0 | 0 | ⋯ | 0.000 | 0.057 | 0 | 0.000 | 0 | 0 | 1.147 | 5 |  78 | 0 |\n",
       "| 0.00 | 0 | 0.65 | 0 | 0.00 | 0 | 0 | 0 | 0 | 0 | ⋯ | 0.000 | 0.000 | 0 | 0.125 | 0 | 0 | 1.250 | 5 |  40 | 0 |\n",
       "\n"
      ],
      "text/plain": [
       "     X1   X2   X3   X4 X5   X6   X7   X8   X9   X10  ⋯ X49   X50   X51 X52  \n",
       "1    0.00 0.64 0.64 0  0.32 0.00 0.00 0.00 0.00 0.00 ⋯ 0.00  0.000 0   0.778\n",
       "2    0.21 0.28 0.50 0  0.14 0.28 0.21 0.07 0.00 0.94 ⋯ 0.00  0.132 0   0.372\n",
       "3    0.06 0.00 0.71 0  1.23 0.19 0.19 0.12 0.64 0.25 ⋯ 0.01  0.143 0   0.276\n",
       "⋮    ⋮    ⋮    ⋮    ⋮  ⋮    ⋮    ⋮    ⋮    ⋮    ⋮    ⋱ ⋮     ⋮     ⋮   ⋮    \n",
       "4599 0.30 0    0.30 0  0.00 0    0    0    0    0    ⋯ 0.102 0.718 0   0.000\n",
       "4600 0.96 0    0.00 0  0.32 0    0    0    0    0    ⋯ 0.000 0.057 0   0.000\n",
       "4601 0.00 0    0.65 0  0.00 0    0    0    0    0    ⋯ 0.000 0.000 0   0.125\n",
       "     X53   X54   X55   X56 X57  X58\n",
       "1    0.000 0.000 3.756  61  278 1  \n",
       "2    0.180 0.048 5.114 101 1028 1  \n",
       "3    0.184 0.010 9.821 485 2259 1  \n",
       "⋮    ⋮     ⋮     ⋮     ⋮   ⋮    ⋮  \n",
       "4599 0     0     1.404 6   118  0  \n",
       "4600 0     0     1.147 5    78  0  \n",
       "4601 0     0     1.250 5    40  0  "
      ]
     },
     "metadata": {},
     "output_type": "display_data"
    }
   ],
   "source": [
    "data <- read_csv(\"https://raw.githubusercontent.com/SarahHoang/dsci-100-project-group-162/main/spambase.data\", \n",
    "                      col_names = FALSE)\n",
    "data"
   ]
  },
  {
   "cell_type": "markdown",
   "id": "ac8aaced-b494-428a-8d5a-b864cb8483df",
   "metadata": {},
   "source": []
  },
  {
   "cell_type": "code",
   "execution_count": 122,
   "id": "e0fb1042-379b-4856-b54c-d26afe89f4a3",
   "metadata": {},
   "outputs": [
    {
     "name": "stderr",
     "output_type": "stream",
     "text": [
      "\u001b[1mRows: \u001b[22m\u001b[34m57\u001b[39m \u001b[1mColumns: \u001b[22m\u001b[34m2\u001b[39m\n",
      "\u001b[36m──\u001b[39m \u001b[1mColumn specification\u001b[22m \u001b[36m────────────────────────────────────────────────────────\u001b[39m\n",
      "\u001b[1mDelimiter:\u001b[22m \":\"\n",
      "\u001b[31mchr\u001b[39m (2): X1, X2\n",
      "\n",
      "\u001b[36mℹ\u001b[39m Use `spec()` to retrieve the full column specification for this data.\n",
      "\u001b[36mℹ\u001b[39m Specify the column types or set `show_col_types = FALSE` to quiet this message.\n"
     ]
    },
    {
     "data": {
      "text/html": [
       "'c(\"word_freq_make\", \"word_freq_address\", \"word_freq_all\", \"word_freq_3d\", \"word_freq_our\", \"word_freq_over\", \"word_freq_remove\", \"word_freq_internet\", \"word_freq_order\", \"word_freq_mail\", \"word_freq_receive\", \"word_freq_will\", \"word_freq_people\", \"word_freq_report\", \"word_freq_addresses\", \"word_freq_free\", \"word_freq_business\", \"word_freq_email\", \"word_freq_you\", \"word_freq_credit\", \"word_freq_your\", \"word_freq_font\", \"word_freq_000\", \"word_freq_money\", \"word_freq_hp\", \"word_freq_hpl\", \"word_freq_george\", \\n\"word_freq_650\", \"word_freq_lab\", \"word_freq_labs\", \"word_freq_telnet\", \"word_freq_857\", \"word_freq_data\", \"word_freq_415\", \"word_freq_85\", \"word_freq_technology\", \"word_freq_1999\", \"word_freq_parts\", \"word_freq_pm\", \"word_freq_direct\", \"word_freq_cs\", \"word_freq_meeting\", \"word_freq_original\", \"word_freq_project\", \"word_freq_re\", \"word_freq_edu\", \"word_freq_table\", \"word_freq_conference\", \"char_freq_;\", \"char_freq_(\", \"char_freq_[\", \"char_freq_!\", \"char_freq_$\", \"char_freq_#\", \"capital_run_length_average\", \\n\"capital_run_length_longest\", \"capital_run_length_total\")'"
      ],
      "text/latex": [
       "'c(\"word\\_freq\\_make\", \"word\\_freq\\_address\", \"word\\_freq\\_all\", \"word\\_freq\\_3d\", \"word\\_freq\\_our\", \"word\\_freq\\_over\", \"word\\_freq\\_remove\", \"word\\_freq\\_internet\", \"word\\_freq\\_order\", \"word\\_freq\\_mail\", \"word\\_freq\\_receive\", \"word\\_freq\\_will\", \"word\\_freq\\_people\", \"word\\_freq\\_report\", \"word\\_freq\\_addresses\", \"word\\_freq\\_free\", \"word\\_freq\\_business\", \"word\\_freq\\_email\", \"word\\_freq\\_you\", \"word\\_freq\\_credit\", \"word\\_freq\\_your\", \"word\\_freq\\_font\", \"word\\_freq\\_000\", \"word\\_freq\\_money\", \"word\\_freq\\_hp\", \"word\\_freq\\_hpl\", \"word\\_freq\\_george\", \\textbackslash{}n\"word\\_freq\\_650\", \"word\\_freq\\_lab\", \"word\\_freq\\_labs\", \"word\\_freq\\_telnet\", \"word\\_freq\\_857\", \"word\\_freq\\_data\", \"word\\_freq\\_415\", \"word\\_freq\\_85\", \"word\\_freq\\_technology\", \"word\\_freq\\_1999\", \"word\\_freq\\_parts\", \"word\\_freq\\_pm\", \"word\\_freq\\_direct\", \"word\\_freq\\_cs\", \"word\\_freq\\_meeting\", \"word\\_freq\\_original\", \"word\\_freq\\_project\", \"word\\_freq\\_re\", \"word\\_freq\\_edu\", \"word\\_freq\\_table\", \"word\\_freq\\_conference\", \"char\\_freq\\_;\", \"char\\_freq\\_(\", \"char\\_freq\\_{[}\", \"char\\_freq\\_!\", \"char\\_freq\\_\\$\", \"char\\_freq\\_\\#\", \"capital\\_run\\_length\\_average\", \\textbackslash{}n\"capital\\_run\\_length\\_longest\", \"capital\\_run\\_length\\_total\")'"
      ],
      "text/markdown": [
       "'c(\"word_freq_make\", \"word_freq_address\", \"word_freq_all\", \"word_freq_3d\", \"word_freq_our\", \"word_freq_over\", \"word_freq_remove\", \"word_freq_internet\", \"word_freq_order\", \"word_freq_mail\", \"word_freq_receive\", \"word_freq_will\", \"word_freq_people\", \"word_freq_report\", \"word_freq_addresses\", \"word_freq_free\", \"word_freq_business\", \"word_freq_email\", \"word_freq_you\", \"word_freq_credit\", \"word_freq_your\", \"word_freq_font\", \"word_freq_000\", \"word_freq_money\", \"word_freq_hp\", \"word_freq_hpl\", \"word_freq_george\", \\n\"word_freq_650\", \"word_freq_lab\", \"word_freq_labs\", \"word_freq_telnet\", \"word_freq_857\", \"word_freq_data\", \"word_freq_415\", \"word_freq_85\", \"word_freq_technology\", \"word_freq_1999\", \"word_freq_parts\", \"word_freq_pm\", \"word_freq_direct\", \"word_freq_cs\", \"word_freq_meeting\", \"word_freq_original\", \"word_freq_project\", \"word_freq_re\", \"word_freq_edu\", \"word_freq_table\", \"word_freq_conference\", \"char_freq_;\", \"char_freq_(\", \"char_freq_[\", \"char_freq_!\", \"char_freq_$\", \"char_freq_#\", \"capital_run_length_average\", \\n\"capital_run_length_longest\", \"capital_run_length_total\")'"
      ],
      "text/plain": [
       "[1] \"c(\\\"word_freq_make\\\", \\\"word_freq_address\\\", \\\"word_freq_all\\\", \\\"word_freq_3d\\\", \\\"word_freq_our\\\", \\\"word_freq_over\\\", \\\"word_freq_remove\\\", \\\"word_freq_internet\\\", \\\"word_freq_order\\\", \\\"word_freq_mail\\\", \\\"word_freq_receive\\\", \\\"word_freq_will\\\", \\\"word_freq_people\\\", \\\"word_freq_report\\\", \\\"word_freq_addresses\\\", \\\"word_freq_free\\\", \\\"word_freq_business\\\", \\\"word_freq_email\\\", \\\"word_freq_you\\\", \\\"word_freq_credit\\\", \\\"word_freq_your\\\", \\\"word_freq_font\\\", \\\"word_freq_000\\\", \\\"word_freq_money\\\", \\\"word_freq_hp\\\", \\\"word_freq_hpl\\\", \\\"word_freq_george\\\", \\n\\\"word_freq_650\\\", \\\"word_freq_lab\\\", \\\"word_freq_labs\\\", \\\"word_freq_telnet\\\", \\\"word_freq_857\\\", \\\"word_freq_data\\\", \\\"word_freq_415\\\", \\\"word_freq_85\\\", \\\"word_freq_technology\\\", \\\"word_freq_1999\\\", \\\"word_freq_parts\\\", \\\"word_freq_pm\\\", \\\"word_freq_direct\\\", \\\"word_freq_cs\\\", \\\"word_freq_meeting\\\", \\\"word_freq_original\\\", \\\"word_freq_project\\\", \\\"word_freq_re\\\", \\\"word_freq_edu\\\", \\\"word_freq_table\\\", \\\"word_freq_conference\\\", \\\"char_freq_;\\\", \\\"char_freq_(\\\", \\\"char_freq_[\\\", \\\"char_freq_!\\\", \\\"char_freq_$\\\", \\\"char_freq_#\\\", \\\"capital_run_length_average\\\", \\n\\\"capital_run_length_longest\\\", \\\"capital_run_length_total\\\")\""
      ]
     },
     "metadata": {},
     "output_type": "display_data"
    }
   ],
   "source": [
    "column_names <- read_delim(\"https://raw.githubusercontent.com/SarahHoang/dsci-100-project-group-162/main/spambase.names\", \n",
    "                         skip = 33,\n",
    "                        col_names = FALSE) |> \n",
    "                        select(X1) |>\n",
    "                        rename(\"col_name\" = X1)\n",
    "\n",
    "col <- toString(column_names)\n",
    "col\n",
    "\n",
    "colnames(email_data) <- c(\"word_freq_make\", \"word_freq_address\", \"word_freq_all\", \"word_freq_3d\", \"word_freq_our\", \"word_freq_over\", \n",
    "  \"word_freq_remove\", \"word_freq_internet\", \"word_freq_order\", \"word_freq_mail\", \"word_freq_receive\", \"word_freq_will\", \n",
    "  \"word_freq_people\", \"word_freq_report\", \"word_freq_addresses\", \"word_freq_free\", \"word_freq_business\", \"word_freq_email\", \n",
    "  \"word_freq_you\", \"word_freq_credit\", \"word_freq_your\", \"word_freq_font\", \"word_freq_000\", \"word_freq_money\", \n",
    "  \"word_freq_hp\", \"word_freq_hpl\", \"word_freq_george\", \"word_freq_650\", \"word_freq_lab\", \"word_freq_labs\", \n",
    "  \"word_freq_telnet\", \"word_freq_857\", \"word_freq_data\", \"word_freq_415\", \"word_freq_85\", \"word_freq_technology\", \n",
    "  \"word_freq_1999\", \"word_freq_parts\", \"word_freq_pm\", \"word_freq_direct\", \"word_freq_cs\", \"word_freq_meeting\", \n",
    "  \"word_freq_original\", \"word_freq_project\", \"word_freq_re\", \"word_freq_edu\", \"word_freq_table\", \"word_freq_conference\", \n",
    "  \"char_freq_;\", \"char_freq_(\", \"char_freq_[\", \"char_freq_!\", \"char_freq_$\", \"char_freq_#\", \"capital_run_length_average\", \n",
    "  \"capital_run_length_longest\", \"capital_run_length_total\", \"Spam or non-spam\")"
   ]
  },
  {
   "cell_type": "code",
   "execution_count": 121,
   "id": "427a564e-540b-4350-96f1-308dd746844a",
   "metadata": {},
   "outputs": [
    {
     "data": {
      "text/html": [
       "<table class=\"dataframe\">\n",
       "<caption>A spec_tbl_df: 4601 × 58</caption>\n",
       "<thead>\n",
       "\t<tr><th scope=col>word_freq_make</th><th scope=col>word_freq_address</th><th scope=col>word_freq_all</th><th scope=col>word_freq_3d</th><th scope=col>word_freq_our</th><th scope=col>word_freq_over</th><th scope=col>word_freq_remove</th><th scope=col>word_freq_internet</th><th scope=col>word_freq_order</th><th scope=col>word_freq_mail</th><th scope=col>⋯</th><th scope=col>char_freq_;</th><th scope=col>char_freq_(</th><th scope=col>char_freq_[</th><th scope=col>char_freq_!</th><th scope=col>char_freq_$</th><th scope=col>char_freq_#</th><th scope=col>capital_run_length_average</th><th scope=col>capital_run_length_longest</th><th scope=col>capital_run_length_total</th><th scope=col>Spam or non-spam</th></tr>\n",
       "\t<tr><th scope=col>&lt;dbl&gt;</th><th scope=col>&lt;dbl&gt;</th><th scope=col>&lt;dbl&gt;</th><th scope=col>&lt;dbl&gt;</th><th scope=col>&lt;dbl&gt;</th><th scope=col>&lt;dbl&gt;</th><th scope=col>&lt;dbl&gt;</th><th scope=col>&lt;dbl&gt;</th><th scope=col>&lt;dbl&gt;</th><th scope=col>&lt;dbl&gt;</th><th scope=col>⋯</th><th scope=col>&lt;dbl&gt;</th><th scope=col>&lt;dbl&gt;</th><th scope=col>&lt;dbl&gt;</th><th scope=col>&lt;dbl&gt;</th><th scope=col>&lt;dbl&gt;</th><th scope=col>&lt;dbl&gt;</th><th scope=col>&lt;dbl&gt;</th><th scope=col>&lt;dbl&gt;</th><th scope=col>&lt;dbl&gt;</th><th scope=col>&lt;dbl&gt;</th></tr>\n",
       "</thead>\n",
       "<tbody>\n",
       "\t<tr><td>0.00</td><td>0.64</td><td>0.64</td><td>0</td><td>0.32</td><td>0.00</td><td>0.00</td><td>0.00</td><td>0.00</td><td>0.00</td><td>⋯</td><td>0.00</td><td>0.000</td><td>0</td><td>0.778</td><td>0.000</td><td>0.000</td><td>3.756</td><td> 61</td><td> 278</td><td>1</td></tr>\n",
       "\t<tr><td>0.21</td><td>0.28</td><td>0.50</td><td>0</td><td>0.14</td><td>0.28</td><td>0.21</td><td>0.07</td><td>0.00</td><td>0.94</td><td>⋯</td><td>0.00</td><td>0.132</td><td>0</td><td>0.372</td><td>0.180</td><td>0.048</td><td>5.114</td><td>101</td><td>1028</td><td>1</td></tr>\n",
       "\t<tr><td>0.06</td><td>0.00</td><td>0.71</td><td>0</td><td>1.23</td><td>0.19</td><td>0.19</td><td>0.12</td><td>0.64</td><td>0.25</td><td>⋯</td><td>0.01</td><td>0.143</td><td>0</td><td>0.276</td><td>0.184</td><td>0.010</td><td>9.821</td><td>485</td><td>2259</td><td>1</td></tr>\n",
       "\t<tr><td>⋮</td><td>⋮</td><td>⋮</td><td>⋮</td><td>⋮</td><td>⋮</td><td>⋮</td><td>⋮</td><td>⋮</td><td>⋮</td><td>⋱</td><td>⋮</td><td>⋮</td><td>⋮</td><td>⋮</td><td>⋮</td><td>⋮</td><td>⋮</td><td>⋮</td><td>⋮</td><td>⋮</td></tr>\n",
       "\t<tr><td>0.30</td><td>0</td><td>0.30</td><td>0</td><td>0.00</td><td>0</td><td>0</td><td>0</td><td>0</td><td>0</td><td>⋯</td><td>0.102</td><td>0.718</td><td>0</td><td>0.000</td><td>0</td><td>0</td><td>1.404</td><td>6</td><td>118</td><td>0</td></tr>\n",
       "\t<tr><td>0.96</td><td>0</td><td>0.00</td><td>0</td><td>0.32</td><td>0</td><td>0</td><td>0</td><td>0</td><td>0</td><td>⋯</td><td>0.000</td><td>0.057</td><td>0</td><td>0.000</td><td>0</td><td>0</td><td>1.147</td><td>5</td><td> 78</td><td>0</td></tr>\n",
       "\t<tr><td>0.00</td><td>0</td><td>0.65</td><td>0</td><td>0.00</td><td>0</td><td>0</td><td>0</td><td>0</td><td>0</td><td>⋯</td><td>0.000</td><td>0.000</td><td>0</td><td>0.125</td><td>0</td><td>0</td><td>1.250</td><td>5</td><td> 40</td><td>0</td></tr>\n",
       "</tbody>\n",
       "</table>\n"
      ],
      "text/latex": [
       "A spec\\_tbl\\_df: 4601 × 58\n",
       "\\begin{tabular}{lllllllllllllllllllll}\n",
       " word\\_freq\\_make & word\\_freq\\_address & word\\_freq\\_all & word\\_freq\\_3d & word\\_freq\\_our & word\\_freq\\_over & word\\_freq\\_remove & word\\_freq\\_internet & word\\_freq\\_order & word\\_freq\\_mail & ⋯ & char\\_freq\\_; & char\\_freq\\_( & char\\_freq\\_{[} & char\\_freq\\_! & char\\_freq\\_\\$ & char\\_freq\\_\\# & capital\\_run\\_length\\_average & capital\\_run\\_length\\_longest & capital\\_run\\_length\\_total & Spam or non-spam\\\\\n",
       " <dbl> & <dbl> & <dbl> & <dbl> & <dbl> & <dbl> & <dbl> & <dbl> & <dbl> & <dbl> & ⋯ & <dbl> & <dbl> & <dbl> & <dbl> & <dbl> & <dbl> & <dbl> & <dbl> & <dbl> & <dbl>\\\\\n",
       "\\hline\n",
       "\t 0.00 & 0.64 & 0.64 & 0 & 0.32 & 0.00 & 0.00 & 0.00 & 0.00 & 0.00 & ⋯ & 0.00 & 0.000 & 0 & 0.778 & 0.000 & 0.000 & 3.756 &  61 &  278 & 1\\\\\n",
       "\t 0.21 & 0.28 & 0.50 & 0 & 0.14 & 0.28 & 0.21 & 0.07 & 0.00 & 0.94 & ⋯ & 0.00 & 0.132 & 0 & 0.372 & 0.180 & 0.048 & 5.114 & 101 & 1028 & 1\\\\\n",
       "\t 0.06 & 0.00 & 0.71 & 0 & 1.23 & 0.19 & 0.19 & 0.12 & 0.64 & 0.25 & ⋯ & 0.01 & 0.143 & 0 & 0.276 & 0.184 & 0.010 & 9.821 & 485 & 2259 & 1\\\\\n",
       "\t ⋮ & ⋮ & ⋮ & ⋮ & ⋮ & ⋮ & ⋮ & ⋮ & ⋮ & ⋮ & ⋱ & ⋮ & ⋮ & ⋮ & ⋮ & ⋮ & ⋮ & ⋮ & ⋮ & ⋮ & ⋮\\\\\n",
       "\t 0.30 & 0 & 0.30 & 0 & 0.00 & 0 & 0 & 0 & 0 & 0 & ⋯ & 0.102 & 0.718 & 0 & 0.000 & 0 & 0 & 1.404 & 6 & 118 & 0\\\\\n",
       "\t 0.96 & 0 & 0.00 & 0 & 0.32 & 0 & 0 & 0 & 0 & 0 & ⋯ & 0.000 & 0.057 & 0 & 0.000 & 0 & 0 & 1.147 & 5 &  78 & 0\\\\\n",
       "\t 0.00 & 0 & 0.65 & 0 & 0.00 & 0 & 0 & 0 & 0 & 0 & ⋯ & 0.000 & 0.000 & 0 & 0.125 & 0 & 0 & 1.250 & 5 &  40 & 0\\\\\n",
       "\\end{tabular}\n"
      ],
      "text/markdown": [
       "\n",
       "A spec_tbl_df: 4601 × 58\n",
       "\n",
       "| word_freq_make &lt;dbl&gt; | word_freq_address &lt;dbl&gt; | word_freq_all &lt;dbl&gt; | word_freq_3d &lt;dbl&gt; | word_freq_our &lt;dbl&gt; | word_freq_over &lt;dbl&gt; | word_freq_remove &lt;dbl&gt; | word_freq_internet &lt;dbl&gt; | word_freq_order &lt;dbl&gt; | word_freq_mail &lt;dbl&gt; | ⋯ ⋯ | char_freq_; &lt;dbl&gt; | char_freq_( &lt;dbl&gt; | char_freq_[ &lt;dbl&gt; | char_freq_! &lt;dbl&gt; | char_freq_$ &lt;dbl&gt; | char_freq_# &lt;dbl&gt; | capital_run_length_average &lt;dbl&gt; | capital_run_length_longest &lt;dbl&gt; | capital_run_length_total &lt;dbl&gt; | Spam or non-spam &lt;dbl&gt; |\n",
       "|---|---|---|---|---|---|---|---|---|---|---|---|---|---|---|---|---|---|---|---|---|\n",
       "| 0.00 | 0.64 | 0.64 | 0 | 0.32 | 0.00 | 0.00 | 0.00 | 0.00 | 0.00 | ⋯ | 0.00 | 0.000 | 0 | 0.778 | 0.000 | 0.000 | 3.756 |  61 |  278 | 1 |\n",
       "| 0.21 | 0.28 | 0.50 | 0 | 0.14 | 0.28 | 0.21 | 0.07 | 0.00 | 0.94 | ⋯ | 0.00 | 0.132 | 0 | 0.372 | 0.180 | 0.048 | 5.114 | 101 | 1028 | 1 |\n",
       "| 0.06 | 0.00 | 0.71 | 0 | 1.23 | 0.19 | 0.19 | 0.12 | 0.64 | 0.25 | ⋯ | 0.01 | 0.143 | 0 | 0.276 | 0.184 | 0.010 | 9.821 | 485 | 2259 | 1 |\n",
       "| ⋮ | ⋮ | ⋮ | ⋮ | ⋮ | ⋮ | ⋮ | ⋮ | ⋮ | ⋮ | ⋱ | ⋮ | ⋮ | ⋮ | ⋮ | ⋮ | ⋮ | ⋮ | ⋮ | ⋮ | ⋮ |\n",
       "| 0.30 | 0 | 0.30 | 0 | 0.00 | 0 | 0 | 0 | 0 | 0 | ⋯ | 0.102 | 0.718 | 0 | 0.000 | 0 | 0 | 1.404 | 6 | 118 | 0 |\n",
       "| 0.96 | 0 | 0.00 | 0 | 0.32 | 0 | 0 | 0 | 0 | 0 | ⋯ | 0.000 | 0.057 | 0 | 0.000 | 0 | 0 | 1.147 | 5 |  78 | 0 |\n",
       "| 0.00 | 0 | 0.65 | 0 | 0.00 | 0 | 0 | 0 | 0 | 0 | ⋯ | 0.000 | 0.000 | 0 | 0.125 | 0 | 0 | 1.250 | 5 |  40 | 0 |\n",
       "\n"
      ],
      "text/plain": [
       "     word_freq_make word_freq_address word_freq_all word_freq_3d word_freq_our\n",
       "1    0.00           0.64              0.64          0            0.32         \n",
       "2    0.21           0.28              0.50          0            0.14         \n",
       "3    0.06           0.00              0.71          0            1.23         \n",
       "⋮    ⋮              ⋮                 ⋮             ⋮            ⋮            \n",
       "4599 0.30           0                 0.30          0            0.00         \n",
       "4600 0.96           0                 0.00          0            0.32         \n",
       "4601 0.00           0                 0.65          0            0.00         \n",
       "     word_freq_over word_freq_remove word_freq_internet word_freq_order\n",
       "1    0.00           0.00             0.00               0.00           \n",
       "2    0.28           0.21             0.07               0.00           \n",
       "3    0.19           0.19             0.12               0.64           \n",
       "⋮    ⋮              ⋮                ⋮                  ⋮              \n",
       "4599 0              0                0                  0              \n",
       "4600 0              0                0                  0              \n",
       "4601 0              0                0                  0              \n",
       "     word_freq_mail ⋯ char_freq_; char_freq_( char_freq_[ char_freq_!\n",
       "1    0.00           ⋯ 0.00        0.000       0           0.778      \n",
       "2    0.94           ⋯ 0.00        0.132       0           0.372      \n",
       "3    0.25           ⋯ 0.01        0.143       0           0.276      \n",
       "⋮    ⋮              ⋱ ⋮           ⋮           ⋮           ⋮          \n",
       "4599 0              ⋯ 0.102       0.718       0           0.000      \n",
       "4600 0              ⋯ 0.000       0.057       0           0.000      \n",
       "4601 0              ⋯ 0.000       0.000       0           0.125      \n",
       "     char_freq_$ char_freq_# capital_run_length_average\n",
       "1    0.000       0.000       3.756                     \n",
       "2    0.180       0.048       5.114                     \n",
       "3    0.184       0.010       9.821                     \n",
       "⋮    ⋮           ⋮           ⋮                         \n",
       "4599 0           0           1.404                     \n",
       "4600 0           0           1.147                     \n",
       "4601 0           0           1.250                     \n",
       "     capital_run_length_longest capital_run_length_total Spam or non-spam\n",
       "1     61                         278                     1               \n",
       "2    101                        1028                     1               \n",
       "3    485                        2259                     1               \n",
       "⋮    ⋮                          ⋮                        ⋮               \n",
       "4599 6                          118                      0               \n",
       "4600 5                           78                      0               \n",
       "4601 5                           40                      0               "
      ]
     },
     "metadata": {},
     "output_type": "display_data"
    }
   ],
   "source": [
    "email_data"
   ]
  },
  {
   "cell_type": "markdown",
   "id": "c1725249-c0e1-452a-81b8-40d7054d7ea8",
   "metadata": {
    "tags": []
   },
   "source": [
    "## Methods"
   ]
  },
  {
   "cell_type": "markdown",
   "id": "e77302c7-79bf-45ef-978a-2fc07000d71b",
   "metadata": {},
   "source": [
    "## Expected outcomes and significance"
   ]
  }
 ],
 "metadata": {
  "kernelspec": {
   "display_name": "R",
   "language": "R",
   "name": "ir"
  },
  "language_info": {
   "codemirror_mode": "r",
   "file_extension": ".r",
   "mimetype": "text/x-r-source",
   "name": "R",
   "pygments_lexer": "r",
   "version": "4.1.3"
  }
 },
 "nbformat": 4,
 "nbformat_minor": 5
}
