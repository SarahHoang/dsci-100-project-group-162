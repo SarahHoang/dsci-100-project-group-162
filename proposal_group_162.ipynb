{
 "cells": [
  {
   "cell_type": "markdown",
   "id": "066c5269",
   "metadata": {},
   "source": [
    "# Predicting Email Spam Using Keyword Checking"
   ]
  },
  {
   "cell_type": "markdown",
   "id": "923b1528",
   "metadata": {},
   "source": [
    "**DSCI 100 group 162** : Sarah Hoang, Euna Ao, Siddhanth Duggal"
   ]
  },
  {
   "cell_type": "markdown",
   "id": "af111fa8",
   "metadata": {},
   "source": [
    "## Introduction"
   ]
  },
  {
   "cell_type": "markdown",
   "id": "f506ecca",
   "metadata": {},
   "source": [
    "### Background Information:"
   ]
  },
  {
   "cell_type": "markdown",
   "id": "1456d5f4",
   "metadata": {},
   "source": [
    "Spam email is diverse and can come in form of advertisements for products/websites, make-money-fast schemes, chain letters, pornography. Spam emails not only waste the receiver’s time and resources; receivers are vulnerable to scams, security breach, putting them at risk of stolen information and losing money (Ahmed, 2022). T"
   ]
  },
  {
   "cell_type": "markdown",
   "id": "74c3f08d",
   "metadata": {},
   "source": [
    "### Research Question:"
   ]
  },
  {
   "cell_type": "markdown",
   "id": "dc4468e9",
   "metadata": {},
   "source": []
  },
  {
   "cell_type": "markdown",
   "id": "3dcdc9c2",
   "metadata": {},
   "source": [
    "### Information on Dataset:"
   ]
  },
  {
   "cell_type": "markdown",
   "id": "68f19033",
   "metadata": {},
   "source": [
    "This dataset consists of information derived from 4601 emails that are classified as either spam or not-spam. Collected by Hopkins et al. from the Hewlett-Packard lab in 1997, this dataset is split into two classifications of email: \n",
    "\n",
    "1) Spam emails, which was created by accumulating spam emails failed by individuals and post masters and \n",
    "\n",
    "2) Non-spam emails, which was created by personal and work emails donated by George Forman. \n",
    "\n",
    "This dataset contains information about 57 continuous real variables, and contains one class-label column to denote whether the email is spam or not. As the non-spam emails were donated by George Forman, words such as \"george\" and \"650\" indicate non-spam emails. No relevant papers are derived from this dataset. \n"
   ]
  },
  {
   "cell_type": "markdown",
   "id": "310b96df",
   "metadata": {},
   "source": [
    "# Preliminary Exploratory Data Analysis"
   ]
  },
  {
   "cell_type": "code",
   "execution_count": 1,
   "id": "97abfec5",
   "metadata": {},
   "outputs": [
    {
     "name": "stderr",
     "output_type": "stream",
     "text": [
      "── \u001b[1mAttaching packages\u001b[22m ─────────────────────────────────────── tidyverse 1.3.1 ──\n",
      "\n",
      "\u001b[32m✔\u001b[39m \u001b[34mggplot2\u001b[39m 3.3.6     \u001b[32m✔\u001b[39m \u001b[34mpurrr  \u001b[39m 0.3.4\n",
      "\u001b[32m✔\u001b[39m \u001b[34mtibble \u001b[39m 3.1.7     \u001b[32m✔\u001b[39m \u001b[34mdplyr  \u001b[39m 1.0.9\n",
      "\u001b[32m✔\u001b[39m \u001b[34mtidyr  \u001b[39m 1.2.0     \u001b[32m✔\u001b[39m \u001b[34mstringr\u001b[39m 1.4.0\n",
      "\u001b[32m✔\u001b[39m \u001b[34mreadr  \u001b[39m 2.1.2     \u001b[32m✔\u001b[39m \u001b[34mforcats\u001b[39m 0.5.1\n",
      "\n",
      "── \u001b[1mConflicts\u001b[22m ────────────────────────────────────────── tidyverse_conflicts() ──\n",
      "\u001b[31m✖\u001b[39m \u001b[34mdplyr\u001b[39m::\u001b[32mfilter()\u001b[39m masks \u001b[34mstats\u001b[39m::filter()\n",
      "\u001b[31m✖\u001b[39m \u001b[34mdplyr\u001b[39m::\u001b[32mlag()\u001b[39m    masks \u001b[34mstats\u001b[39m::lag()\n",
      "\n",
      "── \u001b[1mAttaching packages\u001b[22m ────────────────────────────────────── tidymodels 1.0.0 ──\n",
      "\n",
      "\u001b[32m✔\u001b[39m \u001b[34mbroom       \u001b[39m 1.0.0     \u001b[32m✔\u001b[39m \u001b[34mrsample     \u001b[39m 1.0.0\n",
      "\u001b[32m✔\u001b[39m \u001b[34mdials       \u001b[39m 1.0.0     \u001b[32m✔\u001b[39m \u001b[34mtune        \u001b[39m 1.0.0\n",
      "\u001b[32m✔\u001b[39m \u001b[34minfer       \u001b[39m 1.0.2     \u001b[32m✔\u001b[39m \u001b[34mworkflows   \u001b[39m 1.0.0\n",
      "\u001b[32m✔\u001b[39m \u001b[34mmodeldata   \u001b[39m 1.0.0     \u001b[32m✔\u001b[39m \u001b[34mworkflowsets\u001b[39m 1.0.0\n",
      "\u001b[32m✔\u001b[39m \u001b[34mparsnip     \u001b[39m 1.0.0     \u001b[32m✔\u001b[39m \u001b[34myardstick   \u001b[39m 1.0.0\n",
      "\u001b[32m✔\u001b[39m \u001b[34mrecipes     \u001b[39m 1.0.1     \n",
      "\n",
      "── \u001b[1mConflicts\u001b[22m ───────────────────────────────────────── tidymodels_conflicts() ──\n",
      "\u001b[31m✖\u001b[39m \u001b[34mscales\u001b[39m::\u001b[32mdiscard()\u001b[39m masks \u001b[34mpurrr\u001b[39m::discard()\n",
      "\u001b[31m✖\u001b[39m \u001b[34mdplyr\u001b[39m::\u001b[32mfilter()\u001b[39m   masks \u001b[34mstats\u001b[39m::filter()\n",
      "\u001b[31m✖\u001b[39m \u001b[34mrecipes\u001b[39m::\u001b[32mfixed()\u001b[39m  masks \u001b[34mstringr\u001b[39m::fixed()\n",
      "\u001b[31m✖\u001b[39m \u001b[34mdplyr\u001b[39m::\u001b[32mlag()\u001b[39m      masks \u001b[34mstats\u001b[39m::lag()\n",
      "\u001b[31m✖\u001b[39m \u001b[34myardstick\u001b[39m::\u001b[32mspec()\u001b[39m masks \u001b[34mreadr\u001b[39m::spec()\n",
      "\u001b[31m✖\u001b[39m \u001b[34mrecipes\u001b[39m::\u001b[32mstep()\u001b[39m   masks \u001b[34mstats\u001b[39m::step()\n",
      "\u001b[34m•\u001b[39m Search for functions across packages at \u001b[32mhttps://www.tidymodels.org/find/\u001b[39m\n",
      "\n"
     ]
    }
   ],
   "source": [
    "library(tidyverse)\n",
    "library(repr)\n",
    "library(tidymodels)\n",
    "library(cowplot)\n",
    "options(repr.matrix.max.rows = 6)"
   ]
  },
  {
   "cell_type": "markdown",
   "id": "464eba70",
   "metadata": {},
   "source": [
    "### 1. Load Data into R"
   ]
  },
  {
   "cell_type": "code",
   "execution_count": 2,
   "id": "55a2213c",
   "metadata": {},
   "outputs": [
    {
     "name": "stderr",
     "output_type": "stream",
     "text": [
      "\u001b[1mRows: \u001b[22m\u001b[34m4601\u001b[39m \u001b[1mColumns: \u001b[22m\u001b[34m58\u001b[39m\n",
      "\u001b[36m──\u001b[39m \u001b[1mColumn specification\u001b[22m \u001b[36m────────────────────────────────────────────────────────\u001b[39m\n",
      "\u001b[1mDelimiter:\u001b[22m \",\"\n",
      "\u001b[32mdbl\u001b[39m (58): X1, X2, X3, X4, X5, X6, X7, X8, X9, X10, X11, X12, X13, X14, X15, ...\n",
      "\n",
      "\u001b[36mℹ\u001b[39m Use `spec()` to retrieve the full column specification for this data.\n",
      "\u001b[36mℹ\u001b[39m Specify the column types or set `show_col_types = FALSE` to quiet this message.\n"
     ]
    }
   ],
   "source": [
    "data <- read_csv(\"https://raw.githubusercontent.com/SarahHoang/dsci-100-project-group-162/main/spambase.data\", \n",
    "                      col_names = FALSE)"
   ]
  },
  {
   "cell_type": "code",
   "execution_count": 3,
   "id": "53f34a0b",
   "metadata": {},
   "outputs": [
    {
     "data": {
      "text/html": [
       "<table class=\"dataframe\">\n",
       "<caption>A spec_tbl_df: 4601 × 58</caption>\n",
       "<thead>\n",
       "\t<tr><th scope=col>X1</th><th scope=col>X2</th><th scope=col>X3</th><th scope=col>X4</th><th scope=col>X5</th><th scope=col>X6</th><th scope=col>X7</th><th scope=col>X8</th><th scope=col>X9</th><th scope=col>X10</th><th scope=col>⋯</th><th scope=col>X49</th><th scope=col>X50</th><th scope=col>X51</th><th scope=col>X52</th><th scope=col>X53</th><th scope=col>X54</th><th scope=col>X55</th><th scope=col>X56</th><th scope=col>X57</th><th scope=col>X58</th></tr>\n",
       "\t<tr><th scope=col>&lt;dbl&gt;</th><th scope=col>&lt;dbl&gt;</th><th scope=col>&lt;dbl&gt;</th><th scope=col>&lt;dbl&gt;</th><th scope=col>&lt;dbl&gt;</th><th scope=col>&lt;dbl&gt;</th><th scope=col>&lt;dbl&gt;</th><th scope=col>&lt;dbl&gt;</th><th scope=col>&lt;dbl&gt;</th><th scope=col>&lt;dbl&gt;</th><th scope=col>⋯</th><th scope=col>&lt;dbl&gt;</th><th scope=col>&lt;dbl&gt;</th><th scope=col>&lt;dbl&gt;</th><th scope=col>&lt;dbl&gt;</th><th scope=col>&lt;dbl&gt;</th><th scope=col>&lt;dbl&gt;</th><th scope=col>&lt;dbl&gt;</th><th scope=col>&lt;dbl&gt;</th><th scope=col>&lt;dbl&gt;</th><th scope=col>&lt;dbl&gt;</th></tr>\n",
       "</thead>\n",
       "<tbody>\n",
       "\t<tr><td>0.00</td><td>0.64</td><td>0.64</td><td>0</td><td>0.32</td><td>0.00</td><td>0.00</td><td>0.00</td><td>0.00</td><td>0.00</td><td>⋯</td><td>0.00</td><td>0.000</td><td>0</td><td>0.778</td><td>0.000</td><td>0.000</td><td>3.756</td><td> 61</td><td> 278</td><td>1</td></tr>\n",
       "\t<tr><td>0.21</td><td>0.28</td><td>0.50</td><td>0</td><td>0.14</td><td>0.28</td><td>0.21</td><td>0.07</td><td>0.00</td><td>0.94</td><td>⋯</td><td>0.00</td><td>0.132</td><td>0</td><td>0.372</td><td>0.180</td><td>0.048</td><td>5.114</td><td>101</td><td>1028</td><td>1</td></tr>\n",
       "\t<tr><td>0.06</td><td>0.00</td><td>0.71</td><td>0</td><td>1.23</td><td>0.19</td><td>0.19</td><td>0.12</td><td>0.64</td><td>0.25</td><td>⋯</td><td>0.01</td><td>0.143</td><td>0</td><td>0.276</td><td>0.184</td><td>0.010</td><td>9.821</td><td>485</td><td>2259</td><td>1</td></tr>\n",
       "\t<tr><td>⋮</td><td>⋮</td><td>⋮</td><td>⋮</td><td>⋮</td><td>⋮</td><td>⋮</td><td>⋮</td><td>⋮</td><td>⋮</td><td>⋱</td><td>⋮</td><td>⋮</td><td>⋮</td><td>⋮</td><td>⋮</td><td>⋮</td><td>⋮</td><td>⋮</td><td>⋮</td><td>⋮</td></tr>\n",
       "\t<tr><td>0.30</td><td>0</td><td>0.30</td><td>0</td><td>0.00</td><td>0</td><td>0</td><td>0</td><td>0</td><td>0</td><td>⋯</td><td>0.102</td><td>0.718</td><td>0</td><td>0.000</td><td>0</td><td>0</td><td>1.404</td><td>6</td><td>118</td><td>0</td></tr>\n",
       "\t<tr><td>0.96</td><td>0</td><td>0.00</td><td>0</td><td>0.32</td><td>0</td><td>0</td><td>0</td><td>0</td><td>0</td><td>⋯</td><td>0.000</td><td>0.057</td><td>0</td><td>0.000</td><td>0</td><td>0</td><td>1.147</td><td>5</td><td> 78</td><td>0</td></tr>\n",
       "\t<tr><td>0.00</td><td>0</td><td>0.65</td><td>0</td><td>0.00</td><td>0</td><td>0</td><td>0</td><td>0</td><td>0</td><td>⋯</td><td>0.000</td><td>0.000</td><td>0</td><td>0.125</td><td>0</td><td>0</td><td>1.250</td><td>5</td><td> 40</td><td>0</td></tr>\n",
       "</tbody>\n",
       "</table>\n"
      ],
      "text/latex": [
       "A spec\\_tbl\\_df: 4601 × 58\n",
       "\\begin{tabular}{lllllllllllllllllllll}\n",
       " X1 & X2 & X3 & X4 & X5 & X6 & X7 & X8 & X9 & X10 & ⋯ & X49 & X50 & X51 & X52 & X53 & X54 & X55 & X56 & X57 & X58\\\\\n",
       " <dbl> & <dbl> & <dbl> & <dbl> & <dbl> & <dbl> & <dbl> & <dbl> & <dbl> & <dbl> & ⋯ & <dbl> & <dbl> & <dbl> & <dbl> & <dbl> & <dbl> & <dbl> & <dbl> & <dbl> & <dbl>\\\\\n",
       "\\hline\n",
       "\t 0.00 & 0.64 & 0.64 & 0 & 0.32 & 0.00 & 0.00 & 0.00 & 0.00 & 0.00 & ⋯ & 0.00 & 0.000 & 0 & 0.778 & 0.000 & 0.000 & 3.756 &  61 &  278 & 1\\\\\n",
       "\t 0.21 & 0.28 & 0.50 & 0 & 0.14 & 0.28 & 0.21 & 0.07 & 0.00 & 0.94 & ⋯ & 0.00 & 0.132 & 0 & 0.372 & 0.180 & 0.048 & 5.114 & 101 & 1028 & 1\\\\\n",
       "\t 0.06 & 0.00 & 0.71 & 0 & 1.23 & 0.19 & 0.19 & 0.12 & 0.64 & 0.25 & ⋯ & 0.01 & 0.143 & 0 & 0.276 & 0.184 & 0.010 & 9.821 & 485 & 2259 & 1\\\\\n",
       "\t ⋮ & ⋮ & ⋮ & ⋮ & ⋮ & ⋮ & ⋮ & ⋮ & ⋮ & ⋮ & ⋱ & ⋮ & ⋮ & ⋮ & ⋮ & ⋮ & ⋮ & ⋮ & ⋮ & ⋮ & ⋮\\\\\n",
       "\t 0.30 & 0 & 0.30 & 0 & 0.00 & 0 & 0 & 0 & 0 & 0 & ⋯ & 0.102 & 0.718 & 0 & 0.000 & 0 & 0 & 1.404 & 6 & 118 & 0\\\\\n",
       "\t 0.96 & 0 & 0.00 & 0 & 0.32 & 0 & 0 & 0 & 0 & 0 & ⋯ & 0.000 & 0.057 & 0 & 0.000 & 0 & 0 & 1.147 & 5 &  78 & 0\\\\\n",
       "\t 0.00 & 0 & 0.65 & 0 & 0.00 & 0 & 0 & 0 & 0 & 0 & ⋯ & 0.000 & 0.000 & 0 & 0.125 & 0 & 0 & 1.250 & 5 &  40 & 0\\\\\n",
       "\\end{tabular}\n"
      ],
      "text/markdown": [
       "\n",
       "A spec_tbl_df: 4601 × 58\n",
       "\n",
       "| X1 &lt;dbl&gt; | X2 &lt;dbl&gt; | X3 &lt;dbl&gt; | X4 &lt;dbl&gt; | X5 &lt;dbl&gt; | X6 &lt;dbl&gt; | X7 &lt;dbl&gt; | X8 &lt;dbl&gt; | X9 &lt;dbl&gt; | X10 &lt;dbl&gt; | ⋯ ⋯ | X49 &lt;dbl&gt; | X50 &lt;dbl&gt; | X51 &lt;dbl&gt; | X52 &lt;dbl&gt; | X53 &lt;dbl&gt; | X54 &lt;dbl&gt; | X55 &lt;dbl&gt; | X56 &lt;dbl&gt; | X57 &lt;dbl&gt; | X58 &lt;dbl&gt; |\n",
       "|---|---|---|---|---|---|---|---|---|---|---|---|---|---|---|---|---|---|---|---|---|\n",
       "| 0.00 | 0.64 | 0.64 | 0 | 0.32 | 0.00 | 0.00 | 0.00 | 0.00 | 0.00 | ⋯ | 0.00 | 0.000 | 0 | 0.778 | 0.000 | 0.000 | 3.756 |  61 |  278 | 1 |\n",
       "| 0.21 | 0.28 | 0.50 | 0 | 0.14 | 0.28 | 0.21 | 0.07 | 0.00 | 0.94 | ⋯ | 0.00 | 0.132 | 0 | 0.372 | 0.180 | 0.048 | 5.114 | 101 | 1028 | 1 |\n",
       "| 0.06 | 0.00 | 0.71 | 0 | 1.23 | 0.19 | 0.19 | 0.12 | 0.64 | 0.25 | ⋯ | 0.01 | 0.143 | 0 | 0.276 | 0.184 | 0.010 | 9.821 | 485 | 2259 | 1 |\n",
       "| ⋮ | ⋮ | ⋮ | ⋮ | ⋮ | ⋮ | ⋮ | ⋮ | ⋮ | ⋮ | ⋱ | ⋮ | ⋮ | ⋮ | ⋮ | ⋮ | ⋮ | ⋮ | ⋮ | ⋮ | ⋮ |\n",
       "| 0.30 | 0 | 0.30 | 0 | 0.00 | 0 | 0 | 0 | 0 | 0 | ⋯ | 0.102 | 0.718 | 0 | 0.000 | 0 | 0 | 1.404 | 6 | 118 | 0 |\n",
       "| 0.96 | 0 | 0.00 | 0 | 0.32 | 0 | 0 | 0 | 0 | 0 | ⋯ | 0.000 | 0.057 | 0 | 0.000 | 0 | 0 | 1.147 | 5 |  78 | 0 |\n",
       "| 0.00 | 0 | 0.65 | 0 | 0.00 | 0 | 0 | 0 | 0 | 0 | ⋯ | 0.000 | 0.000 | 0 | 0.125 | 0 | 0 | 1.250 | 5 |  40 | 0 |\n",
       "\n"
      ],
      "text/plain": [
       "     X1   X2   X3   X4 X5   X6   X7   X8   X9   X10  ⋯ X49   X50   X51 X52  \n",
       "1    0.00 0.64 0.64 0  0.32 0.00 0.00 0.00 0.00 0.00 ⋯ 0.00  0.000 0   0.778\n",
       "2    0.21 0.28 0.50 0  0.14 0.28 0.21 0.07 0.00 0.94 ⋯ 0.00  0.132 0   0.372\n",
       "3    0.06 0.00 0.71 0  1.23 0.19 0.19 0.12 0.64 0.25 ⋯ 0.01  0.143 0   0.276\n",
       "⋮    ⋮    ⋮    ⋮    ⋮  ⋮    ⋮    ⋮    ⋮    ⋮    ⋮    ⋱ ⋮     ⋮     ⋮   ⋮    \n",
       "4599 0.30 0    0.30 0  0.00 0    0    0    0    0    ⋯ 0.102 0.718 0   0.000\n",
       "4600 0.96 0    0.00 0  0.32 0    0    0    0    0    ⋯ 0.000 0.057 0   0.000\n",
       "4601 0.00 0    0.65 0  0.00 0    0    0    0    0    ⋯ 0.000 0.000 0   0.125\n",
       "     X53   X54   X55   X56 X57  X58\n",
       "1    0.000 0.000 3.756  61  278 1  \n",
       "2    0.180 0.048 5.114 101 1028 1  \n",
       "3    0.184 0.010 9.821 485 2259 1  \n",
       "⋮    ⋮     ⋮     ⋮     ⋮   ⋮    ⋮  \n",
       "4599 0     0     1.404 6   118  0  \n",
       "4600 0     0     1.147 5    78  0  \n",
       "4601 0     0     1.250 5    40  0  "
      ]
     },
     "metadata": {},
     "output_type": "display_data"
    }
   ],
   "source": [
    "data"
   ]
  },
  {
   "cell_type": "markdown",
   "id": "91536371",
   "metadata": {},
   "source": [
    "### 2. Cleaning and Wrangling data into Tidy Format\n",
    "\n",
    "After reading our dataset from the web, we will clean and wrangle the data into tidy format. This includes renaming the columns and mutating the classiification label to a factor. We also added serial numbers to every observation and removed rows containing missing values. We are keeping all predictor variables as we will need them all to later determine which predictor variables are appropriate for our model. "
   ]
  },
  {
   "cell_type": "code",
   "execution_count": 4,
   "id": "9cc990cc",
   "metadata": {},
   "outputs": [
    {
     "name": "stderr",
     "output_type": "stream",
     "text": [
      "\u001b[1mRows: \u001b[22m\u001b[34m57\u001b[39m \u001b[1mColumns: \u001b[22m\u001b[34m2\u001b[39m\n",
      "\u001b[36m──\u001b[39m \u001b[1mColumn specification\u001b[22m \u001b[36m────────────────────────────────────────────────────────\u001b[39m\n",
      "\u001b[1mDelimiter:\u001b[22m \":\"\n",
      "\u001b[31mchr\u001b[39m (2): X1, X2\n",
      "\n",
      "\u001b[36mℹ\u001b[39m Use `spec()` to retrieve the full column specification for this data.\n",
      "\u001b[36mℹ\u001b[39m Specify the column types or set `show_col_types = FALSE` to quiet this message.\n"
     ]
    }
   ],
   "source": [
    "#generating column names for our dataset\n",
    "clean_data <- tibble::rowid_to_column(data)\n",
    "\n",
    "#generating column names for our dataset\n",
    "column_names <- read_delim(\"https://raw.githubusercontent.com/SarahHoang/dsci-100-project-group-162/main/spambase.names\", \n",
    "                         skip = 33,\n",
    "                        col_names = FALSE) |> \n",
    "                        select(X1) |>\n",
    "                        rename(\"col_name\" = X1)\n",
    "\n",
    "col <- toString(column_names)\n",
    "\n",
    "colnames(clean_data) <- c(\"ID\", \"word_freq_make\", \"word_freq_address\", \"word_freq_all\", \"word_freq_3d\", \"word_freq_our\", \"word_freq_over\", \n",
    "  \"word_freq_remove\", \"word_freq_internet\", \"word_freq_order\", \"word_freq_mail\", \"word_freq_receive\", \"word_freq_will\", \n",
    "  \"word_freq_people\", \"word_freq_report\", \"word_freq_addresses\", \"word_freq_free\", \"word_freq_business\", \"word_freq_email\", \n",
    "  \"word_freq_you\", \"word_freq_credit\", \"word_freq_your\", \"word_freq_font\", \"word_freq_000\", \"word_freq_money\", \n",
    "  \"word_freq_hp\", \"word_freq_hpl\", \"word_freq_george\", \"word_freq_650\", \"word_freq_lab\", \"word_freq_labs\", \n",
    "  \"word_freq_telnet\", \"word_freq_857\", \"word_freq_data\", \"word_freq_415\", \"word_freq_85\", \"word_freq_technology\", \n",
    "  \"word_freq_1999\", \"word_freq_parts\", \"word_freq_pm\", \"word_freq_direct\", \"word_freq_cs\", \"word_freq_meeting\", \n",
    "  \"word_freq_original\", \"word_freq_project\", \"word_freq_re\", \"word_freq_edu\", \"word_freq_table\", \"word_freq_conference\", \n",
    "  \"char_freq_semicolon\", \"char_freq_bracket\", \"char_freq_squarebracket\", \"char_freq_exclamation\", \n",
    "                          \"char_freq_dollar\", \"char_freq_hashtag\", \"capital_run_length_average\", \n",
    "  \"capital_run_length_longest\", \"capital_run_length_total\", \"spam_indicator\")\n",
    "\n",
    "\n",
    "#Changing class label from dbl to factor\n",
    "\n",
    "clean_data <- clean_data |>\n",
    "   mutate(spam_indicator = as_factor(spam_indicator))\n",
    "            "
   ]
  },
  {
   "cell_type": "code",
   "execution_count": 5,
   "id": "4eee8682",
   "metadata": {},
   "outputs": [
    {
     "data": {
      "text/html": [
       "<table class=\"dataframe\">\n",
       "<caption>A tibble: 4601 × 59</caption>\n",
       "<thead>\n",
       "\t<tr><th scope=col>ID</th><th scope=col>word_freq_make</th><th scope=col>word_freq_address</th><th scope=col>word_freq_all</th><th scope=col>word_freq_3d</th><th scope=col>word_freq_our</th><th scope=col>word_freq_over</th><th scope=col>word_freq_remove</th><th scope=col>word_freq_internet</th><th scope=col>word_freq_order</th><th scope=col>⋯</th><th scope=col>char_freq_semicolon</th><th scope=col>char_freq_bracket</th><th scope=col>char_freq_squarebracket</th><th scope=col>char_freq_exclamation</th><th scope=col>char_freq_dollar</th><th scope=col>char_freq_hashtag</th><th scope=col>capital_run_length_average</th><th scope=col>capital_run_length_longest</th><th scope=col>capital_run_length_total</th><th scope=col>spam_indicator</th></tr>\n",
       "\t<tr><th scope=col>&lt;int&gt;</th><th scope=col>&lt;dbl&gt;</th><th scope=col>&lt;dbl&gt;</th><th scope=col>&lt;dbl&gt;</th><th scope=col>&lt;dbl&gt;</th><th scope=col>&lt;dbl&gt;</th><th scope=col>&lt;dbl&gt;</th><th scope=col>&lt;dbl&gt;</th><th scope=col>&lt;dbl&gt;</th><th scope=col>&lt;dbl&gt;</th><th scope=col>⋯</th><th scope=col>&lt;dbl&gt;</th><th scope=col>&lt;dbl&gt;</th><th scope=col>&lt;dbl&gt;</th><th scope=col>&lt;dbl&gt;</th><th scope=col>&lt;dbl&gt;</th><th scope=col>&lt;dbl&gt;</th><th scope=col>&lt;dbl&gt;</th><th scope=col>&lt;dbl&gt;</th><th scope=col>&lt;dbl&gt;</th><th scope=col>&lt;fct&gt;</th></tr>\n",
       "</thead>\n",
       "<tbody>\n",
       "\t<tr><td>1</td><td>0.00</td><td>0.64</td><td>0.64</td><td>0</td><td>0.32</td><td>0.00</td><td>0.00</td><td>0.00</td><td>0.00</td><td>⋯</td><td>0.00</td><td>0.000</td><td>0</td><td>0.778</td><td>0.000</td><td>0.000</td><td>3.756</td><td> 61</td><td> 278</td><td>1</td></tr>\n",
       "\t<tr><td>2</td><td>0.21</td><td>0.28</td><td>0.50</td><td>0</td><td>0.14</td><td>0.28</td><td>0.21</td><td>0.07</td><td>0.00</td><td>⋯</td><td>0.00</td><td>0.132</td><td>0</td><td>0.372</td><td>0.180</td><td>0.048</td><td>5.114</td><td>101</td><td>1028</td><td>1</td></tr>\n",
       "\t<tr><td>3</td><td>0.06</td><td>0.00</td><td>0.71</td><td>0</td><td>1.23</td><td>0.19</td><td>0.19</td><td>0.12</td><td>0.64</td><td>⋯</td><td>0.01</td><td>0.143</td><td>0</td><td>0.276</td><td>0.184</td><td>0.010</td><td>9.821</td><td>485</td><td>2259</td><td>1</td></tr>\n",
       "\t<tr><td>⋮</td><td>⋮</td><td>⋮</td><td>⋮</td><td>⋮</td><td>⋮</td><td>⋮</td><td>⋮</td><td>⋮</td><td>⋮</td><td>⋱</td><td>⋮</td><td>⋮</td><td>⋮</td><td>⋮</td><td>⋮</td><td>⋮</td><td>⋮</td><td>⋮</td><td>⋮</td><td>⋮</td></tr>\n",
       "\t<tr><td>4599</td><td>0.30</td><td>0</td><td>0.30</td><td>0</td><td>0.00</td><td>0</td><td>0</td><td>0</td><td>0</td><td>⋯</td><td>0.102</td><td>0.718</td><td>0</td><td>0.000</td><td>0</td><td>0</td><td>1.404</td><td>6</td><td>118</td><td>0</td></tr>\n",
       "\t<tr><td>4600</td><td>0.96</td><td>0</td><td>0.00</td><td>0</td><td>0.32</td><td>0</td><td>0</td><td>0</td><td>0</td><td>⋯</td><td>0.000</td><td>0.057</td><td>0</td><td>0.000</td><td>0</td><td>0</td><td>1.147</td><td>5</td><td> 78</td><td>0</td></tr>\n",
       "\t<tr><td>4601</td><td>0.00</td><td>0</td><td>0.65</td><td>0</td><td>0.00</td><td>0</td><td>0</td><td>0</td><td>0</td><td>⋯</td><td>0.000</td><td>0.000</td><td>0</td><td>0.125</td><td>0</td><td>0</td><td>1.250</td><td>5</td><td> 40</td><td>0</td></tr>\n",
       "</tbody>\n",
       "</table>\n"
      ],
      "text/latex": [
       "A tibble: 4601 × 59\n",
       "\\begin{tabular}{lllllllllllllllllllll}\n",
       " ID & word\\_freq\\_make & word\\_freq\\_address & word\\_freq\\_all & word\\_freq\\_3d & word\\_freq\\_our & word\\_freq\\_over & word\\_freq\\_remove & word\\_freq\\_internet & word\\_freq\\_order & ⋯ & char\\_freq\\_semicolon & char\\_freq\\_bracket & char\\_freq\\_squarebracket & char\\_freq\\_exclamation & char\\_freq\\_dollar & char\\_freq\\_hashtag & capital\\_run\\_length\\_average & capital\\_run\\_length\\_longest & capital\\_run\\_length\\_total & spam\\_indicator\\\\\n",
       " <int> & <dbl> & <dbl> & <dbl> & <dbl> & <dbl> & <dbl> & <dbl> & <dbl> & <dbl> & ⋯ & <dbl> & <dbl> & <dbl> & <dbl> & <dbl> & <dbl> & <dbl> & <dbl> & <dbl> & <fct>\\\\\n",
       "\\hline\n",
       "\t 1 & 0.00 & 0.64 & 0.64 & 0 & 0.32 & 0.00 & 0.00 & 0.00 & 0.00 & ⋯ & 0.00 & 0.000 & 0 & 0.778 & 0.000 & 0.000 & 3.756 &  61 &  278 & 1\\\\\n",
       "\t 2 & 0.21 & 0.28 & 0.50 & 0 & 0.14 & 0.28 & 0.21 & 0.07 & 0.00 & ⋯ & 0.00 & 0.132 & 0 & 0.372 & 0.180 & 0.048 & 5.114 & 101 & 1028 & 1\\\\\n",
       "\t 3 & 0.06 & 0.00 & 0.71 & 0 & 1.23 & 0.19 & 0.19 & 0.12 & 0.64 & ⋯ & 0.01 & 0.143 & 0 & 0.276 & 0.184 & 0.010 & 9.821 & 485 & 2259 & 1\\\\\n",
       "\t ⋮ & ⋮ & ⋮ & ⋮ & ⋮ & ⋮ & ⋮ & ⋮ & ⋮ & ⋮ & ⋱ & ⋮ & ⋮ & ⋮ & ⋮ & ⋮ & ⋮ & ⋮ & ⋮ & ⋮ & ⋮\\\\\n",
       "\t 4599 & 0.30 & 0 & 0.30 & 0 & 0.00 & 0 & 0 & 0 & 0 & ⋯ & 0.102 & 0.718 & 0 & 0.000 & 0 & 0 & 1.404 & 6 & 118 & 0\\\\\n",
       "\t 4600 & 0.96 & 0 & 0.00 & 0 & 0.32 & 0 & 0 & 0 & 0 & ⋯ & 0.000 & 0.057 & 0 & 0.000 & 0 & 0 & 1.147 & 5 &  78 & 0\\\\\n",
       "\t 4601 & 0.00 & 0 & 0.65 & 0 & 0.00 & 0 & 0 & 0 & 0 & ⋯ & 0.000 & 0.000 & 0 & 0.125 & 0 & 0 & 1.250 & 5 &  40 & 0\\\\\n",
       "\\end{tabular}\n"
      ],
      "text/markdown": [
       "\n",
       "A tibble: 4601 × 59\n",
       "\n",
       "| ID &lt;int&gt; | word_freq_make &lt;dbl&gt; | word_freq_address &lt;dbl&gt; | word_freq_all &lt;dbl&gt; | word_freq_3d &lt;dbl&gt; | word_freq_our &lt;dbl&gt; | word_freq_over &lt;dbl&gt; | word_freq_remove &lt;dbl&gt; | word_freq_internet &lt;dbl&gt; | word_freq_order &lt;dbl&gt; | ⋯ ⋯ | char_freq_semicolon &lt;dbl&gt; | char_freq_bracket &lt;dbl&gt; | char_freq_squarebracket &lt;dbl&gt; | char_freq_exclamation &lt;dbl&gt; | char_freq_dollar &lt;dbl&gt; | char_freq_hashtag &lt;dbl&gt; | capital_run_length_average &lt;dbl&gt; | capital_run_length_longest &lt;dbl&gt; | capital_run_length_total &lt;dbl&gt; | spam_indicator &lt;fct&gt; |\n",
       "|---|---|---|---|---|---|---|---|---|---|---|---|---|---|---|---|---|---|---|---|---|\n",
       "| 1 | 0.00 | 0.64 | 0.64 | 0 | 0.32 | 0.00 | 0.00 | 0.00 | 0.00 | ⋯ | 0.00 | 0.000 | 0 | 0.778 | 0.000 | 0.000 | 3.756 |  61 |  278 | 1 |\n",
       "| 2 | 0.21 | 0.28 | 0.50 | 0 | 0.14 | 0.28 | 0.21 | 0.07 | 0.00 | ⋯ | 0.00 | 0.132 | 0 | 0.372 | 0.180 | 0.048 | 5.114 | 101 | 1028 | 1 |\n",
       "| 3 | 0.06 | 0.00 | 0.71 | 0 | 1.23 | 0.19 | 0.19 | 0.12 | 0.64 | ⋯ | 0.01 | 0.143 | 0 | 0.276 | 0.184 | 0.010 | 9.821 | 485 | 2259 | 1 |\n",
       "| ⋮ | ⋮ | ⋮ | ⋮ | ⋮ | ⋮ | ⋮ | ⋮ | ⋮ | ⋮ | ⋱ | ⋮ | ⋮ | ⋮ | ⋮ | ⋮ | ⋮ | ⋮ | ⋮ | ⋮ | ⋮ |\n",
       "| 4599 | 0.30 | 0 | 0.30 | 0 | 0.00 | 0 | 0 | 0 | 0 | ⋯ | 0.102 | 0.718 | 0 | 0.000 | 0 | 0 | 1.404 | 6 | 118 | 0 |\n",
       "| 4600 | 0.96 | 0 | 0.00 | 0 | 0.32 | 0 | 0 | 0 | 0 | ⋯ | 0.000 | 0.057 | 0 | 0.000 | 0 | 0 | 1.147 | 5 |  78 | 0 |\n",
       "| 4601 | 0.00 | 0 | 0.65 | 0 | 0.00 | 0 | 0 | 0 | 0 | ⋯ | 0.000 | 0.000 | 0 | 0.125 | 0 | 0 | 1.250 | 5 |  40 | 0 |\n",
       "\n"
      ],
      "text/plain": [
       "     ID   word_freq_make word_freq_address word_freq_all word_freq_3d\n",
       "1    1    0.00           0.64              0.64          0           \n",
       "2    2    0.21           0.28              0.50          0           \n",
       "3    3    0.06           0.00              0.71          0           \n",
       "⋮    ⋮    ⋮              ⋮                 ⋮             ⋮           \n",
       "4599 4599 0.30           0                 0.30          0           \n",
       "4600 4600 0.96           0                 0.00          0           \n",
       "4601 4601 0.00           0                 0.65          0           \n",
       "     word_freq_our word_freq_over word_freq_remove word_freq_internet\n",
       "1    0.32          0.00           0.00             0.00              \n",
       "2    0.14          0.28           0.21             0.07              \n",
       "3    1.23          0.19           0.19             0.12              \n",
       "⋮    ⋮             ⋮              ⋮                ⋮                 \n",
       "4599 0.00          0              0                0                 \n",
       "4600 0.32          0              0                0                 \n",
       "4601 0.00          0              0                0                 \n",
       "     word_freq_order ⋯ char_freq_semicolon char_freq_bracket\n",
       "1    0.00            ⋯ 0.00                0.000            \n",
       "2    0.00            ⋯ 0.00                0.132            \n",
       "3    0.64            ⋯ 0.01                0.143            \n",
       "⋮    ⋮               ⋱ ⋮                   ⋮                \n",
       "4599 0               ⋯ 0.102               0.718            \n",
       "4600 0               ⋯ 0.000               0.057            \n",
       "4601 0               ⋯ 0.000               0.000            \n",
       "     char_freq_squarebracket char_freq_exclamation char_freq_dollar\n",
       "1    0                       0.778                 0.000           \n",
       "2    0                       0.372                 0.180           \n",
       "3    0                       0.276                 0.184           \n",
       "⋮    ⋮                       ⋮                     ⋮               \n",
       "4599 0                       0.000                 0               \n",
       "4600 0                       0.000                 0               \n",
       "4601 0                       0.125                 0               \n",
       "     char_freq_hashtag capital_run_length_average capital_run_length_longest\n",
       "1    0.000             3.756                       61                       \n",
       "2    0.048             5.114                      101                       \n",
       "3    0.010             9.821                      485                       \n",
       "⋮    ⋮                 ⋮                          ⋮                         \n",
       "4599 0                 1.404                      6                         \n",
       "4600 0                 1.147                      5                         \n",
       "4601 0                 1.250                      5                         \n",
       "     capital_run_length_total spam_indicator\n",
       "1     278                     1             \n",
       "2    1028                     1             \n",
       "3    2259                     1             \n",
       "⋮    ⋮                        ⋮             \n",
       "4599 118                      0             \n",
       "4600  78                      0             \n",
       "4601  40                      0             "
      ]
     },
     "metadata": {},
     "output_type": "display_data"
    }
   ],
   "source": [
    "clean_data"
   ]
  },
  {
   "cell_type": "markdown",
   "id": "800af2aa",
   "metadata": {},
   "source": [
    "### 3. Split Data into Training and Testing Datasets (Display table: Training Data)\n",
    "\n",
    "We split the dataset into a training and testing dataset. We also set the seed to ensure reproducability. We used a prop value of 0.75, meaning that 75% of our data was allocated as training data, while the remaining 25% of the data will be our testing data. The testing data is set aside. "
   ]
  },
  {
   "cell_type": "code",
   "execution_count": 6,
   "id": "ec42cbec",
   "metadata": {},
   "outputs": [
    {
     "data": {
      "text/html": [
       "<table class=\"dataframe\">\n",
       "<caption>A tibble: 3450 × 59</caption>\n",
       "<thead>\n",
       "\t<tr><th scope=col>ID</th><th scope=col>word_freq_make</th><th scope=col>word_freq_address</th><th scope=col>word_freq_all</th><th scope=col>word_freq_3d</th><th scope=col>word_freq_our</th><th scope=col>word_freq_over</th><th scope=col>word_freq_remove</th><th scope=col>word_freq_internet</th><th scope=col>word_freq_order</th><th scope=col>⋯</th><th scope=col>char_freq_semicolon</th><th scope=col>char_freq_bracket</th><th scope=col>char_freq_squarebracket</th><th scope=col>char_freq_exclamation</th><th scope=col>char_freq_dollar</th><th scope=col>char_freq_hashtag</th><th scope=col>capital_run_length_average</th><th scope=col>capital_run_length_longest</th><th scope=col>capital_run_length_total</th><th scope=col>spam_indicator</th></tr>\n",
       "\t<tr><th scope=col>&lt;int&gt;</th><th scope=col>&lt;dbl&gt;</th><th scope=col>&lt;dbl&gt;</th><th scope=col>&lt;dbl&gt;</th><th scope=col>&lt;dbl&gt;</th><th scope=col>&lt;dbl&gt;</th><th scope=col>&lt;dbl&gt;</th><th scope=col>&lt;dbl&gt;</th><th scope=col>&lt;dbl&gt;</th><th scope=col>&lt;dbl&gt;</th><th scope=col>⋯</th><th scope=col>&lt;dbl&gt;</th><th scope=col>&lt;dbl&gt;</th><th scope=col>&lt;dbl&gt;</th><th scope=col>&lt;dbl&gt;</th><th scope=col>&lt;dbl&gt;</th><th scope=col>&lt;dbl&gt;</th><th scope=col>&lt;dbl&gt;</th><th scope=col>&lt;dbl&gt;</th><th scope=col>&lt;dbl&gt;</th><th scope=col>&lt;fct&gt;</th></tr>\n",
       "</thead>\n",
       "<tbody>\n",
       "\t<tr><td>1814</td><td>0</td><td>0</td><td>0</td><td>0</td><td>0</td><td>0</td><td>0</td><td>0</td><td>0</td><td>⋯</td><td>0.022</td><td>0.022</td><td>0.019</td><td>0.022</td><td>0.022</td><td>0.022</td><td>3.482</td><td>5</td><td>5902</td><td>0</td></tr>\n",
       "\t<tr><td>1815</td><td>0</td><td>0</td><td>0</td><td>0</td><td>0</td><td>0</td><td>0</td><td>0</td><td>0</td><td>⋯</td><td>0.299</td><td>0.000</td><td>0.000</td><td>0.149</td><td>0.000</td><td>0.000</td><td>1.040</td><td>2</td><td>  26</td><td>0</td></tr>\n",
       "\t<tr><td>1816</td><td>0</td><td>0</td><td>0</td><td>0</td><td>0</td><td>0</td><td>0</td><td>0</td><td>0</td><td>⋯</td><td>0.000</td><td>0.000</td><td>0.000</td><td>0.000</td><td>0.000</td><td>0.000</td><td>1.000</td><td>1</td><td>   3</td><td>0</td></tr>\n",
       "\t<tr><td>⋮</td><td>⋮</td><td>⋮</td><td>⋮</td><td>⋮</td><td>⋮</td><td>⋮</td><td>⋮</td><td>⋮</td><td>⋮</td><td>⋱</td><td>⋮</td><td>⋮</td><td>⋮</td><td>⋮</td><td>⋮</td><td>⋮</td><td>⋮</td><td>⋮</td><td>⋮</td><td>⋮</td></tr>\n",
       "\t<tr><td>1811</td><td>0</td><td>0.00</td><td>0.77</td><td>0</td><td>0.38</td><td>0.38</td><td>0.38</td><td>0.00</td><td>0.00</td><td>⋯</td><td>0.063</td><td>0.127</td><td>0.255</td><td>0.510</td><td>0.000</td><td>0.000</td><td>3.685</td><td> 62</td><td> 258</td><td>1</td></tr>\n",
       "\t<tr><td>1812</td><td>0</td><td>0.00</td><td>0.00</td><td>0</td><td>0.53</td><td>0.00</td><td>0.53</td><td>0.00</td><td>0.53</td><td>⋯</td><td>0.000</td><td>0.000</td><td>0.000</td><td>0.082</td><td>0.000</td><td>0.000</td><td>4.391</td><td> 66</td><td> 101</td><td>1</td></tr>\n",
       "\t<tr><td>1813</td><td>0</td><td>0.31</td><td>0.42</td><td>0</td><td>0.00</td><td>0.10</td><td>0.00</td><td>0.52</td><td>0.21</td><td>⋯</td><td>0.000</td><td>0.016</td><td>0.000</td><td>0.887</td><td>0.032</td><td>0.049</td><td>3.446</td><td>318</td><td>1003</td><td>1</td></tr>\n",
       "</tbody>\n",
       "</table>\n"
      ],
      "text/latex": [
       "A tibble: 3450 × 59\n",
       "\\begin{tabular}{lllllllllllllllllllll}\n",
       " ID & word\\_freq\\_make & word\\_freq\\_address & word\\_freq\\_all & word\\_freq\\_3d & word\\_freq\\_our & word\\_freq\\_over & word\\_freq\\_remove & word\\_freq\\_internet & word\\_freq\\_order & ⋯ & char\\_freq\\_semicolon & char\\_freq\\_bracket & char\\_freq\\_squarebracket & char\\_freq\\_exclamation & char\\_freq\\_dollar & char\\_freq\\_hashtag & capital\\_run\\_length\\_average & capital\\_run\\_length\\_longest & capital\\_run\\_length\\_total & spam\\_indicator\\\\\n",
       " <int> & <dbl> & <dbl> & <dbl> & <dbl> & <dbl> & <dbl> & <dbl> & <dbl> & <dbl> & ⋯ & <dbl> & <dbl> & <dbl> & <dbl> & <dbl> & <dbl> & <dbl> & <dbl> & <dbl> & <fct>\\\\\n",
       "\\hline\n",
       "\t 1814 & 0 & 0 & 0 & 0 & 0 & 0 & 0 & 0 & 0 & ⋯ & 0.022 & 0.022 & 0.019 & 0.022 & 0.022 & 0.022 & 3.482 & 5 & 5902 & 0\\\\\n",
       "\t 1815 & 0 & 0 & 0 & 0 & 0 & 0 & 0 & 0 & 0 & ⋯ & 0.299 & 0.000 & 0.000 & 0.149 & 0.000 & 0.000 & 1.040 & 2 &   26 & 0\\\\\n",
       "\t 1816 & 0 & 0 & 0 & 0 & 0 & 0 & 0 & 0 & 0 & ⋯ & 0.000 & 0.000 & 0.000 & 0.000 & 0.000 & 0.000 & 1.000 & 1 &    3 & 0\\\\\n",
       "\t ⋮ & ⋮ & ⋮ & ⋮ & ⋮ & ⋮ & ⋮ & ⋮ & ⋮ & ⋮ & ⋱ & ⋮ & ⋮ & ⋮ & ⋮ & ⋮ & ⋮ & ⋮ & ⋮ & ⋮ & ⋮\\\\\n",
       "\t 1811 & 0 & 0.00 & 0.77 & 0 & 0.38 & 0.38 & 0.38 & 0.00 & 0.00 & ⋯ & 0.063 & 0.127 & 0.255 & 0.510 & 0.000 & 0.000 & 3.685 &  62 &  258 & 1\\\\\n",
       "\t 1812 & 0 & 0.00 & 0.00 & 0 & 0.53 & 0.00 & 0.53 & 0.00 & 0.53 & ⋯ & 0.000 & 0.000 & 0.000 & 0.082 & 0.000 & 0.000 & 4.391 &  66 &  101 & 1\\\\\n",
       "\t 1813 & 0 & 0.31 & 0.42 & 0 & 0.00 & 0.10 & 0.00 & 0.52 & 0.21 & ⋯ & 0.000 & 0.016 & 0.000 & 0.887 & 0.032 & 0.049 & 3.446 & 318 & 1003 & 1\\\\\n",
       "\\end{tabular}\n"
      ],
      "text/markdown": [
       "\n",
       "A tibble: 3450 × 59\n",
       "\n",
       "| ID &lt;int&gt; | word_freq_make &lt;dbl&gt; | word_freq_address &lt;dbl&gt; | word_freq_all &lt;dbl&gt; | word_freq_3d &lt;dbl&gt; | word_freq_our &lt;dbl&gt; | word_freq_over &lt;dbl&gt; | word_freq_remove &lt;dbl&gt; | word_freq_internet &lt;dbl&gt; | word_freq_order &lt;dbl&gt; | ⋯ ⋯ | char_freq_semicolon &lt;dbl&gt; | char_freq_bracket &lt;dbl&gt; | char_freq_squarebracket &lt;dbl&gt; | char_freq_exclamation &lt;dbl&gt; | char_freq_dollar &lt;dbl&gt; | char_freq_hashtag &lt;dbl&gt; | capital_run_length_average &lt;dbl&gt; | capital_run_length_longest &lt;dbl&gt; | capital_run_length_total &lt;dbl&gt; | spam_indicator &lt;fct&gt; |\n",
       "|---|---|---|---|---|---|---|---|---|---|---|---|---|---|---|---|---|---|---|---|---|\n",
       "| 1814 | 0 | 0 | 0 | 0 | 0 | 0 | 0 | 0 | 0 | ⋯ | 0.022 | 0.022 | 0.019 | 0.022 | 0.022 | 0.022 | 3.482 | 5 | 5902 | 0 |\n",
       "| 1815 | 0 | 0 | 0 | 0 | 0 | 0 | 0 | 0 | 0 | ⋯ | 0.299 | 0.000 | 0.000 | 0.149 | 0.000 | 0.000 | 1.040 | 2 |   26 | 0 |\n",
       "| 1816 | 0 | 0 | 0 | 0 | 0 | 0 | 0 | 0 | 0 | ⋯ | 0.000 | 0.000 | 0.000 | 0.000 | 0.000 | 0.000 | 1.000 | 1 |    3 | 0 |\n",
       "| ⋮ | ⋮ | ⋮ | ⋮ | ⋮ | ⋮ | ⋮ | ⋮ | ⋮ | ⋮ | ⋱ | ⋮ | ⋮ | ⋮ | ⋮ | ⋮ | ⋮ | ⋮ | ⋮ | ⋮ | ⋮ |\n",
       "| 1811 | 0 | 0.00 | 0.77 | 0 | 0.38 | 0.38 | 0.38 | 0.00 | 0.00 | ⋯ | 0.063 | 0.127 | 0.255 | 0.510 | 0.000 | 0.000 | 3.685 |  62 |  258 | 1 |\n",
       "| 1812 | 0 | 0.00 | 0.00 | 0 | 0.53 | 0.00 | 0.53 | 0.00 | 0.53 | ⋯ | 0.000 | 0.000 | 0.000 | 0.082 | 0.000 | 0.000 | 4.391 |  66 |  101 | 1 |\n",
       "| 1813 | 0 | 0.31 | 0.42 | 0 | 0.00 | 0.10 | 0.00 | 0.52 | 0.21 | ⋯ | 0.000 | 0.016 | 0.000 | 0.887 | 0.032 | 0.049 | 3.446 | 318 | 1003 | 1 |\n",
       "\n"
      ],
      "text/plain": [
       "     ID   word_freq_make word_freq_address word_freq_all word_freq_3d\n",
       "1    1814 0              0                 0             0           \n",
       "2    1815 0              0                 0             0           \n",
       "3    1816 0              0                 0             0           \n",
       "⋮    ⋮    ⋮              ⋮                 ⋮             ⋮           \n",
       "3448 1811 0              0.00              0.77          0           \n",
       "3449 1812 0              0.00              0.00          0           \n",
       "3450 1813 0              0.31              0.42          0           \n",
       "     word_freq_our word_freq_over word_freq_remove word_freq_internet\n",
       "1    0             0              0                0                 \n",
       "2    0             0              0                0                 \n",
       "3    0             0              0                0                 \n",
       "⋮    ⋮             ⋮              ⋮                ⋮                 \n",
       "3448 0.38          0.38           0.38             0.00              \n",
       "3449 0.53          0.00           0.53             0.00              \n",
       "3450 0.00          0.10           0.00             0.52              \n",
       "     word_freq_order ⋯ char_freq_semicolon char_freq_bracket\n",
       "1    0               ⋯ 0.022               0.022            \n",
       "2    0               ⋯ 0.299               0.000            \n",
       "3    0               ⋯ 0.000               0.000            \n",
       "⋮    ⋮               ⋱ ⋮                   ⋮                \n",
       "3448 0.00            ⋯ 0.063               0.127            \n",
       "3449 0.53            ⋯ 0.000               0.000            \n",
       "3450 0.21            ⋯ 0.000               0.016            \n",
       "     char_freq_squarebracket char_freq_exclamation char_freq_dollar\n",
       "1    0.019                   0.022                 0.022           \n",
       "2    0.000                   0.149                 0.000           \n",
       "3    0.000                   0.000                 0.000           \n",
       "⋮    ⋮                       ⋮                     ⋮               \n",
       "3448 0.255                   0.510                 0.000           \n",
       "3449 0.000                   0.082                 0.000           \n",
       "3450 0.000                   0.887                 0.032           \n",
       "     char_freq_hashtag capital_run_length_average capital_run_length_longest\n",
       "1    0.022             3.482                      5                         \n",
       "2    0.000             1.040                      2                         \n",
       "3    0.000             1.000                      1                         \n",
       "⋮    ⋮                 ⋮                          ⋮                         \n",
       "3448 0.000             3.685                       62                       \n",
       "3449 0.000             4.391                       66                       \n",
       "3450 0.049             3.446                      318                       \n",
       "     capital_run_length_total spam_indicator\n",
       "1    5902                     0             \n",
       "2      26                     0             \n",
       "3       3                     0             \n",
       "⋮    ⋮                        ⋮             \n",
       "3448  258                     1             \n",
       "3449  101                     1             \n",
       "3450 1003                     1             "
      ]
     },
     "metadata": {},
     "output_type": "display_data"
    }
   ],
   "source": [
    "set.seed(6666)\n",
    "\n",
    "data_split <- initial_split(clean_data, prop = 0.75, strata = spam_indicator)\n",
    "data_train <- training(data_split)\n",
    "data_test <- testing(data_split)\n",
    "\n",
    "data_train"
   ]
  },
  {
   "cell_type": "markdown",
   "id": "02cc2e24",
   "metadata": {},
   "source": [
    "### 4. Exploratory Data Analysis using Training Dataset"
   ]
  },
  {
   "cell_type": "markdown",
   "id": "57fd752b",
   "metadata": {},
   "source": [
    "#### 4.1 Table"
   ]
  },
  {
   "cell_type": "code",
   "execution_count": 7,
   "id": "faa18793",
   "metadata": {},
   "outputs": [
    {
     "data": {
      "text/html": [
       "<table class=\"dataframe\">\n",
       "<caption>A tibble: 2 × 2</caption>\n",
       "<thead>\n",
       "\t<tr><th scope=col>spam_indicator</th><th scope=col>count</th></tr>\n",
       "\t<tr><th scope=col>&lt;fct&gt;</th><th scope=col>&lt;int&gt;</th></tr>\n",
       "</thead>\n",
       "<tbody>\n",
       "\t<tr><td>0</td><td>2091</td></tr>\n",
       "\t<tr><td>1</td><td>1359</td></tr>\n",
       "</tbody>\n",
       "</table>\n"
      ],
      "text/latex": [
       "A tibble: 2 × 2\n",
       "\\begin{tabular}{ll}\n",
       " spam\\_indicator & count\\\\\n",
       " <fct> & <int>\\\\\n",
       "\\hline\n",
       "\t 0 & 2091\\\\\n",
       "\t 1 & 1359\\\\\n",
       "\\end{tabular}\n"
      ],
      "text/markdown": [
       "\n",
       "A tibble: 2 × 2\n",
       "\n",
       "| spam_indicator &lt;fct&gt; | count &lt;int&gt; |\n",
       "|---|---|\n",
       "| 0 | 2091 |\n",
       "| 1 | 1359 |\n",
       "\n"
      ],
      "text/plain": [
       "  spam_indicator count\n",
       "1 0              2091 \n",
       "2 1              1359 "
      ]
     },
     "metadata": {},
     "output_type": "display_data"
    }
   ],
   "source": [
    "data_counts <- data_train %>%\n",
    "group_by(spam_indicator) %>%\n",
    "    summarize(count = n())\n",
    "\n",
    "data_counts"
   ]
  },
  {
   "cell_type": "markdown",
   "id": "fba800be",
   "metadata": {},
   "source": [
    "#### 4.2 Data visualization (scatter plot)"
   ]
  },
  {
   "cell_type": "code",
   "execution_count": null,
   "id": "adc75de5",
   "metadata": {},
   "outputs": [],
   "source": []
  },
  {
   "cell_type": "markdown",
   "id": "fe144fa9",
   "metadata": {
    "tags": []
   },
   "source": [
    "## Methods"
   ]
  },
  {
   "cell_type": "markdown",
   "id": "afa489b4",
   "metadata": {},
   "source": [
    "Using **forward selection** to determine the most accurate attributes to detect spam emails. \n",
    "\n",
    "Our first predictor variable is ____________. This variable describes ________________. Our other predictor variable is ___________________. This variable is ________________. Our `spam_indicator` is the class label, in which it denotes whether the email is spam (1) or not-spam (0). "
   ]
  },
  {
   "cell_type": "markdown",
   "id": "b2dce9ac",
   "metadata": {
    "tags": []
   },
   "source": [
    "### 5. Choosing our Predictors with Forward Selection"
   ]
  },
  {
   "cell_type": "markdown",
   "id": "2fc67fbe",
   "metadata": {},
   "source": [
    "#### 5.1\n",
    "A tibble is created to store our results to proceed with forward selection. We created our model specificiation for this project. We will be using this same model for the rest of the project.The 5-fold crpss-validation object is created."
   ]
  },
  {
   "cell_type": "code",
   "execution_count": 8,
   "id": "2703275b-4651-4219-8d4d-a69a82782f79",
   "metadata": {},
   "outputs": [
    {
     "data": {
      "text/html": [
       "<table class=\"dataframe\">\n",
       "<caption>A tibble: 3450 × 7</caption>\n",
       "<thead>\n",
       "\t<tr><th scope=col>char_freq_semicolon</th><th scope=col>char_freq_bracket</th><th scope=col>char_freq_squarebracket</th><th scope=col>char_freq_exclamation</th><th scope=col>char_freq_dollar</th><th scope=col>char_freq_hashtag</th><th scope=col>spam_indicator</th></tr>\n",
       "\t<tr><th scope=col>&lt;dbl&gt;</th><th scope=col>&lt;dbl&gt;</th><th scope=col>&lt;dbl&gt;</th><th scope=col>&lt;dbl&gt;</th><th scope=col>&lt;dbl&gt;</th><th scope=col>&lt;dbl&gt;</th><th scope=col>&lt;fct&gt;</th></tr>\n",
       "</thead>\n",
       "<tbody>\n",
       "\t<tr><td>0.022</td><td>0.022</td><td>0.019</td><td>0.022</td><td>0.022</td><td>0.022</td><td>0</td></tr>\n",
       "\t<tr><td>0.299</td><td>0.000</td><td>0.000</td><td>0.149</td><td>0.000</td><td>0.000</td><td>0</td></tr>\n",
       "\t<tr><td>0.000</td><td>0.000</td><td>0.000</td><td>0.000</td><td>0.000</td><td>0.000</td><td>0</td></tr>\n",
       "\t<tr><td>⋮</td><td>⋮</td><td>⋮</td><td>⋮</td><td>⋮</td><td>⋮</td><td>⋮</td></tr>\n",
       "\t<tr><td>0.063</td><td>0.127</td><td>0.255</td><td>0.510</td><td>0.000</td><td>0.000</td><td>1</td></tr>\n",
       "\t<tr><td>0.000</td><td>0.000</td><td>0.000</td><td>0.082</td><td>0.000</td><td>0.000</td><td>1</td></tr>\n",
       "\t<tr><td>0.000</td><td>0.016</td><td>0.000</td><td>0.887</td><td>0.032</td><td>0.049</td><td>1</td></tr>\n",
       "</tbody>\n",
       "</table>\n"
      ],
      "text/latex": [
       "A tibble: 3450 × 7\n",
       "\\begin{tabular}{lllllll}\n",
       " char\\_freq\\_semicolon & char\\_freq\\_bracket & char\\_freq\\_squarebracket & char\\_freq\\_exclamation & char\\_freq\\_dollar & char\\_freq\\_hashtag & spam\\_indicator\\\\\n",
       " <dbl> & <dbl> & <dbl> & <dbl> & <dbl> & <dbl> & <fct>\\\\\n",
       "\\hline\n",
       "\t 0.022 & 0.022 & 0.019 & 0.022 & 0.022 & 0.022 & 0\\\\\n",
       "\t 0.299 & 0.000 & 0.000 & 0.149 & 0.000 & 0.000 & 0\\\\\n",
       "\t 0.000 & 0.000 & 0.000 & 0.000 & 0.000 & 0.000 & 0\\\\\n",
       "\t ⋮ & ⋮ & ⋮ & ⋮ & ⋮ & ⋮ & ⋮\\\\\n",
       "\t 0.063 & 0.127 & 0.255 & 0.510 & 0.000 & 0.000 & 1\\\\\n",
       "\t 0.000 & 0.000 & 0.000 & 0.082 & 0.000 & 0.000 & 1\\\\\n",
       "\t 0.000 & 0.016 & 0.000 & 0.887 & 0.032 & 0.049 & 1\\\\\n",
       "\\end{tabular}\n"
      ],
      "text/markdown": [
       "\n",
       "A tibble: 3450 × 7\n",
       "\n",
       "| char_freq_semicolon &lt;dbl&gt; | char_freq_bracket &lt;dbl&gt; | char_freq_squarebracket &lt;dbl&gt; | char_freq_exclamation &lt;dbl&gt; | char_freq_dollar &lt;dbl&gt; | char_freq_hashtag &lt;dbl&gt; | spam_indicator &lt;fct&gt; |\n",
       "|---|---|---|---|---|---|---|\n",
       "| 0.022 | 0.022 | 0.019 | 0.022 | 0.022 | 0.022 | 0 |\n",
       "| 0.299 | 0.000 | 0.000 | 0.149 | 0.000 | 0.000 | 0 |\n",
       "| 0.000 | 0.000 | 0.000 | 0.000 | 0.000 | 0.000 | 0 |\n",
       "| ⋮ | ⋮ | ⋮ | ⋮ | ⋮ | ⋮ | ⋮ |\n",
       "| 0.063 | 0.127 | 0.255 | 0.510 | 0.000 | 0.000 | 1 |\n",
       "| 0.000 | 0.000 | 0.000 | 0.082 | 0.000 | 0.000 | 1 |\n",
       "| 0.000 | 0.016 | 0.000 | 0.887 | 0.032 | 0.049 | 1 |\n",
       "\n"
      ],
      "text/plain": [
       "     char_freq_semicolon char_freq_bracket char_freq_squarebracket\n",
       "1    0.022               0.022             0.019                  \n",
       "2    0.299               0.000             0.000                  \n",
       "3    0.000               0.000             0.000                  \n",
       "⋮    ⋮                   ⋮                 ⋮                      \n",
       "3448 0.063               0.127             0.255                  \n",
       "3449 0.000               0.000             0.000                  \n",
       "3450 0.000               0.016             0.000                  \n",
       "     char_freq_exclamation char_freq_dollar char_freq_hashtag spam_indicator\n",
       "1    0.022                 0.022            0.022             0             \n",
       "2    0.149                 0.000            0.000             0             \n",
       "3    0.000                 0.000            0.000             0             \n",
       "⋮    ⋮                     ⋮                ⋮                 ⋮             \n",
       "3448 0.510                 0.000            0.000             1             \n",
       "3449 0.082                 0.000            0.000             1             \n",
       "3450 0.887                 0.032            0.049             1             "
      ]
     },
     "metadata": {},
     "output_type": "display_data"
    }
   ],
   "source": [
    "set.seed(6666)\n",
    "\n",
    "# extract names for our predict values\n",
    "data_subset <- data_train |>\n",
    "  select(\"char_freq_semicolon\", \"char_freq_bracket\", \"char_freq_squarebracket\", \"char_freq_exclamation\", \n",
    "        \"char_freq_dollar\", \"char_freq_hashtag\", \"spam_indicator\")\n",
    "data_subset\n",
    "\n",
    "names <- colnames(data_subset |> select(-spam_indicator))\n",
    "\n",
    "# create an empty tibble to store the results\n",
    "accuracies <- tibble(size = integer(), \n",
    "                     model_string = character(), \n",
    "                     accuracy = numeric())\n",
    "\n",
    "# create a model specification\n",
    "data_spec <- nearest_neighbor(weight_func = \"rectangular\", \n",
    "                             neighbors = tune()) |>\n",
    "     set_engine(\"kknn\") |>\n",
    "     set_mode(\"classification\")\n",
    "\n",
    "# create a 5-fold cross-validation object\n",
    "data_vfold <- vfold_cv(data_subset, v = 5, strata = spam_indicator)\n",
    "\n",
    "# store the total number of predictors\n",
    "n_total <- length(names)\n",
    "\n",
    "# stores selected predictors\n",
    "selected <- c()"
   ]
  },
  {
   "cell_type": "code",
   "execution_count": 9,
   "id": "cefb274d-e7af-4975-a1ef-fad39511363a",
   "metadata": {},
   "outputs": [
    {
     "data": {
      "image/png": "[encoded data removed]",
      "text/plain": [
       "plot without title"
      ]
     },
     "metadata": {
      "image/png": {
       "height": 420,
       "width": 420
      }
     },
     "output_type": "display_data"
    }
   ],
   "source": [
    "plot <- data_subset |>  \n",
    "  ggplot(aes(x = char_freq_exclamation, y = char_freq_dollar, colour = spam_indicator)) + \n",
    "      geom_point(alpha = 0.5) +\n",
    "      xlab(\"Exclamation\") +\n",
    "      ylab(\"Dollar\") +\n",
    "      labs(color = \"Spam\") + \n",
    "      theme(text = element_text(size = 20))\n",
    "\n",
    "plot"
   ]
  },
  {
   "cell_type": "markdown",
   "id": "ae9c34b2",
   "metadata": {},
   "source": [
    "### 5.6 Forward Selection Results\n",
    "\n",
    "Referring to the forward selection results, we conclude that the predictor variables we will use for this classification model will be            and          . These two variables give us the high accuracy of around ~   "
   ]
  },
  {
   "cell_type": "code",
   "execution_count": null,
   "id": "578e41cb",
   "metadata": {},
   "outputs": [],
   "source": [
    "set.seed(6666)\n",
    "# for every size from 1 to the total number of predictors\n",
    "for (i in 1:n_total) {\n",
    "    # for every predictor still not added yet\n",
    "    accs <- list()\n",
    "    models <- list()\n",
    "    for (j in 1:length(names)) {\n",
    "        # create a model string for this combination of predictors\n",
    "        preds_new <- c(selected, names[[j]])\n",
    "        model_string <- paste(\"spam_indicator\", \"~\", paste(preds_new, collapse=\"+\"))\n",
    "\n",
    "        # create a recipe from the model string\n",
    "        data_recipe <- recipe(as.formula(model_string), \n",
    "                                data = data_subset) |>\n",
    "                          step_scale(all_predictors()) |>\n",
    "                          step_center(all_predictors())\n",
    "\n",
    "        # tune the KNN classifier with these predictors, \n",
    "        # and collect the accuracy for the best K\n",
    "        acc <- workflow() |>\n",
    "          add_recipe(data_recipe) |>\n",
    "          add_model(data_spec) |>\n",
    "          tune_grid(resamples = data_vfold, grid = 10) |>\n",
    "          collect_metrics() |>\n",
    "          filter(.metric == \"accuracy\") |>\n",
    "          summarize(mx = max(mean))\n",
    "        acc <- acc$mx |> unlist()\n",
    "\n",
    "        # add this result to the dataframe\n",
    "        accs[[j]] <- acc\n",
    "        models[[j]] <- model_string\n",
    "    }\n",
    "    jstar <- which.max(unlist(accs))\n",
    "    accuracies <- accuracies |> \n",
    "      add_row(size = i, \n",
    "              model_string = models[[jstar]], \n",
    "              accuracy = accs[[jstar]])\n",
    "    selected <- c(selected, names[[jstar]])\n",
    "    names <- names[-jstar]\n",
    "}\n",
    "accuracies"
   ]
  },
  {
   "cell_type": "markdown",
   "id": "afbb6a72",
   "metadata": {},
   "source": [
    "### 6. Example Data Analysis "
   ]
  },
  {
   "cell_type": "markdown",
   "id": "5d4aa33d-c43d-4d6d-b9db-9b123540c0ba",
   "metadata": {},
   "source": []
  },
  {
   "cell_type": "code",
   "execution_count": null,
   "id": "56cfacf1",
   "metadata": {},
   "outputs": [],
   "source": [
    "set.seed(6666)\n",
    "\n",
    "spam_vfold <- vfold_cv(data_train, v=5, strata = spam_indicator)\n",
    "\n",
    "spam_tune <- nearest_neighbor(weight_func = \"rectangular\", neighbors = tune()) |>\n",
    "    set_engine(\"kknn\") |>\n",
    "    set_mode(\"classification\")\n",
    "\n",
    "spam_recipe <- recipe(spam_indicator ~ char_freq_exclamation + char_freq_dollar + char_freq_hashtag, data= data_train) |>\n",
    "            step_scale(all_predictors()) |>\n",
    "            step_center(all_predictors()) |>\n",
    "            prep()\n",
    "\n",
    "spam_fit <- workflow() |>\n",
    "        add_recipe(spam_recipe) |>\n",
    "        add_model(spam_tune) |>\n",
    "        tune_grid(resamples = spam_vfold, grid =10) |>\n",
    "        collect_metrics()\n",
    "\n",
    "accuracies <- spam_fit |>\n",
    "    filter(.metric == \"accuracy\") |>\n",
    "    arrange(-mean) |>\n",
    "    slice(1)\n",
    "accuracies"
   ]
  },
  {
   "cell_type": "code",
   "execution_count": null,
   "id": "2c23f255-03a5-42b8-9020-2373e9c2e297",
   "metadata": {},
   "outputs": [],
   "source": [
    "set.seed(6666)\n",
    "\n",
    "spam_best_spec <- nearest_neighbor(weight_func = \"rectangular\", neighbors = 9) |>\n",
    "    set_engine(\"kknn\") |>\n",
    "    set_mode(\"classification\")\n",
    "\n",
    "spam_best_fit <- workflow() |>\n",
    "    add_recipe(spam_recipe) |>\n",
    "    add_model(spam_best_spec) |>\n",
    "    fit(data_train)"
   ]
  },
  {
   "cell_type": "markdown",
   "id": "ab587e6d",
   "metadata": {},
   "source": [
    "### 7. Example of Result Visualization"
   ]
  },
  {
   "cell_type": "code",
   "execution_count": null,
   "id": "b51b7258",
   "metadata": {},
   "outputs": [],
   "source": []
  },
  {
   "cell_type": "markdown",
   "id": "c298b0bd",
   "metadata": {},
   "source": [
    "## Expected outcomes and significance"
   ]
  },
  {
   "cell_type": "markdown",
   "id": "80f7f9fa",
   "metadata": {},
   "source": [
    "### Expected Findings"
   ]
  },
  {
   "cell_type": "code",
   "execution_count": null,
   "id": "c11946ee",
   "metadata": {},
   "outputs": [],
   "source": []
  },
  {
   "cell_type": "markdown",
   "id": "b8faa932",
   "metadata": {},
   "source": [
    "### Impact of Findings"
   ]
  },
  {
   "cell_type": "markdown",
   "id": "49319392",
   "metadata": {},
   "source": [
    "Our results provide evidence to support the recognition of [insert] as the leading candidates in keyword checking approach in spam email detection.\n",
    "\n",
    "This however could make scammer more aware and adapt to not utilize these attributions. Nonetheless, our model could help mail users avoid harmful spam emails."
   ]
  },
  {
   "cell_type": "markdown",
   "id": "29c9f898",
   "metadata": {},
   "source": [
    "### Future Questions"
   ]
  },
  {
   "cell_type": "markdown",
   "id": "f1033197",
   "metadata": {},
   "source": [
    "- How applicable is this model to other information sharing platform like social media posts and DMs?\n",
    "\n",
    "- How does the number of attributes affect the accuracy of our model?"
   ]
  },
  {
   "cell_type": "markdown",
   "id": "28f8c35b",
   "metadata": {},
   "source": [
    "# References"
   ]
  },
  {
   "cell_type": "markdown",
   "id": "c68ee720",
   "metadata": {},
   "source": [
    "- Ahmed, Naeem, et al. “Machine Learning Techniques for Spam Detection in Email and IOT Platforms: Analysis and Research Challenges.” Security and Communication Networks, vol. 2022, 2022, pp. 1–19., https://doi.org/10.1155/2022/1862888. "
   ]
  }
 ],
 "metadata": {
  "kernelspec": {
   "display_name": "R",
   "language": "R",
   "name": "ir"
  },
  "language_info": {
   "codemirror_mode": "r",
   "file_extension": ".r",
   "mimetype": "text/x-r-source",
   "name": "R",
   "pygments_lexer": "r",
   "version": "4.1.3"
  }
 },
 "nbformat": 4,
 "nbformat_minor": 5
}
